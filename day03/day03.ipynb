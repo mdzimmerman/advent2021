{
 "cells": [
  {
   "cell_type": "code",
   "execution_count": 20,
   "id": "continuing-ideal",
   "metadata": {
    "scrolled": true
   },
   "outputs": [
    {
     "data": {
      "text/plain": [
       "['00100',\n",
       " '11110',\n",
       " '10110',\n",
       " '10111',\n",
       " '10101',\n",
       " '01111',\n",
       " '00111',\n",
       " '11100',\n",
       " '10000',\n",
       " '11001',\n",
       " '00010',\n",
       " '01010']"
      ]
     },
     "execution_count": 20,
     "metadata": {},
     "output_type": "execute_result"
    }
   ],
   "source": [
    "def read_file(filename):\n",
    "    data = []\n",
    "    with open(filename, \"r\") as fh:\n",
    "        for l in fh:\n",
    "            data.append(l.strip())\n",
    "    return data\n",
    "\n",
    "test = read_file(\"test.txt\")\n",
    "test"
   ]
  },
  {
   "cell_type": "code",
   "execution_count": 23,
   "id": "visible-focus",
   "metadata": {},
   "outputs": [],
   "source": [
    "inp = read_file(\"input.txt\")"
   ]
  },
  {
   "cell_type": "code",
   "execution_count": 25,
   "id": "blank-rocket",
   "metadata": {},
   "outputs": [
    {
     "name": "stdout",
     "output_type": "stream",
     "text": [
      "counts  = [7, 5, 8, 7, 5]\n",
      "gamma   = 22\n",
      "epsilon = 9\n"
     ]
    },
    {
     "data": {
      "text/plain": [
       "198"
      ]
     },
     "execution_count": 25,
     "metadata": {},
     "output_type": "execute_result"
    }
   ],
   "source": [
    "def count(ones, n, x, y):\n",
    "    out = []\n",
    "    for one in ones:\n",
    "        if one > n/2:\n",
    "            out.append(x)\n",
    "        else:\n",
    "            out.append(y)\n",
    "    return \"\".join(out)\n",
    "\n",
    "def gamma(ones, n):\n",
    "    return count(ones, n, '1', '0')\n",
    "\n",
    "def epsilon(ones, n):\n",
    "    return count(ones, n, '0', '1')\n",
    "        \n",
    "def calc(xs):\n",
    "    w = len(xs[0])\n",
    "    ones = [0] * w\n",
    "    #print(ones)\n",
    "    for x in xs:\n",
    "        for i, d in enumerate(x):\n",
    "            if d == '1':\n",
    "                ones[i] += 1\n",
    "    g = int(gamma(ones, len(xs)), 2)\n",
    "    e = int(epsilon(ones, len(xs)), 2)\n",
    "    print(\"counts  = {}\".format(ones))\n",
    "    print(\"gamma   = {}\".format(g))\n",
    "    print(\"epsilon = {}\".format(e))\n",
    "    return g * e\n",
    "    #print(i, d)\n",
    "\n",
    "calc(test)"
   ]
  },
  {
   "cell_type": "code",
   "execution_count": 24,
   "id": "welcome-tamil",
   "metadata": {},
   "outputs": [
    {
     "name": "stdout",
     "output_type": "stream",
     "text": [
      "counts  = [493, 509, 487, 505, 493, 459, 508, 517, 503, 497, 483, 527]\n",
      "gamma   = 1337\n",
      "epsilon = 2758\n"
     ]
    },
    {
     "data": {
      "text/plain": [
       "3687446"
      ]
     },
     "execution_count": 24,
     "metadata": {},
     "output_type": "execute_result"
    }
   ],
   "source": [
    "calc(inp)"
   ]
  },
  {
   "cell_type": "code",
   "execution_count": 39,
   "id": "recent-flour",
   "metadata": {},
   "outputs": [
    {
     "data": {
      "text/plain": [
       "7"
      ]
     },
     "execution_count": 39,
     "metadata": {},
     "output_type": "execute_result"
    }
   ],
   "source": [
    "def freq(xs, pos):\n",
    "    out = [0, 0]\n",
    "    for x in xs:\n",
    "        if x[pos] == '1':\n",
    "            out[1] += 1\n",
    "        else:\n",
    "            out[0] += 1\n",
    "    return out\n",
    "    \n",
    "f0, f1 = freq(test, 0)"
   ]
  },
  {
   "cell_type": "code",
   "execution_count": 34,
   "id": "small-costs",
   "metadata": {},
   "outputs": [
    {
     "data": {
      "text/plain": [
       "['11110', '10110', '10111', '10101', '11100', '10000', '11001']"
      ]
     },
     "execution_count": 34,
     "metadata": {},
     "output_type": "execute_result"
    }
   ],
   "source": [
    "def filter_bit(xs, pos, value):\n",
    "    return list(filter(lambda x: x[pos] == value, xs))\n",
    "    \n",
    "filter_bit(test, 0, '1')"
   ]
  },
  {
   "cell_type": "code",
   "execution_count": 55,
   "id": "compound-battlefield",
   "metadata": {},
   "outputs": [
    {
     "name": "stdout",
     "output_type": "stream",
     "text": [
      "0 ['00100', '11110', '10110', '10111', '10101', '01111', '00111', '11100', '10000', '11001', '00010', '01010']\n",
      "1 ['11110', '10110', '10111', '10101', '11100', '10000', '11001']\n",
      "2 ['10110', '10111', '10101', '10000']\n",
      "3 ['10110', '10111', '10101']\n",
      "4 ['10110', '10111']\n",
      "5 ['10111']\n",
      "10111\n",
      "0 ['00100', '11110', '10110', '10111', '10101', '01111', '00111', '11100', '10000', '11001', '00010', '01010']\n",
      "1 ['00100', '01111', '00111', '00010', '01010']\n",
      "2 ['01111', '01010']\n",
      "3 ['01010']\n",
      "01010\n"
     ]
    }
   ],
   "source": [
    "def calc2(xs, pos, a, b, debug=False):\n",
    "    if debug: print(pos, xs)\n",
    "    if len(xs) == 1:\n",
    "        return xs[0]\n",
    "    else:\n",
    "        f0, f1 = freq(xs, pos)\n",
    "        if f1 > f0:\n",
    "            xs2 = filter_bit(xs, pos, a)\n",
    "        elif f1 < f0:\n",
    "            xs2 = filter_bit(xs, pos, b)\n",
    "        else:\n",
    "            xs2 = filter_bit(xs, pos, a)\n",
    "        return calc2(xs2, pos+1, a, b, debug)\n",
    "\n",
    "def o2(xs, pos, debug=False): \n",
    "    return calc2(xs, pos, '1', '0', debug)\n",
    "    \n",
    "def co2(xs, pos, debug=False):\n",
    "    return calc2(xs, pos, '0', '1', debug)\n",
    "    \n",
    "print(o2(test, 0, debug=True))\n",
    "print(co2(test, 0, debug=True))"
   ]
  },
  {
   "cell_type": "code",
   "execution_count": 56,
   "id": "unauthorized-saturn",
   "metadata": {},
   "outputs": [
    {
     "data": {
      "text/plain": [
       "4406844"
      ]
     },
     "execution_count": 56,
     "metadata": {},
     "output_type": "execute_result"
    }
   ],
   "source": [
    "inp_o2  = int( o2(inp, 0), 2)\n",
    "inp_co2 = int(co2(inp, 0), 2)\n",
    "inp_o2 * inp_co2"
   ]
  },
  {
   "cell_type": "code",
   "execution_count": null,
   "id": "chemical-steel",
   "metadata": {},
   "outputs": [],
   "source": []
  }
 ],
 "metadata": {
  "kernelspec": {
   "display_name": "Python 3",
   "language": "python",
   "name": "python3"
  },
  "language_info": {
   "codemirror_mode": {
    "name": "ipython",
    "version": 3
   },
   "file_extension": ".py",
   "mimetype": "text/x-python",
   "name": "python",
   "nbconvert_exporter": "python",
   "pygments_lexer": "ipython3",
   "version": "3.8.8"
  }
 },
 "nbformat": 4,
 "nbformat_minor": 5
}
