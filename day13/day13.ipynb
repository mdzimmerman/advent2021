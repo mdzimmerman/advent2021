{
 "cells": [
  {
   "cell_type": "code",
   "execution_count": 7,
   "id": "suspended-number",
   "metadata": {},
   "outputs": [],
   "source": [
    "from collections import namedtuple\n",
    "import re"
   ]
  },
  {
   "cell_type": "code",
   "execution_count": 28,
   "id": "indie-hunger",
   "metadata": {},
   "outputs": [
    {
     "name": "stdout",
     "output_type": "stream",
     "text": [
      "...#..#..#.\n",
      "....#......\n",
      "...........\n",
      "#..........\n",
      "...#....#.#\n",
      "...........\n",
      "...........\n",
      "...........\n",
      "...........\n",
      "...........\n",
      ".#....#.##.\n",
      "....#......\n",
      "......#...#\n",
      "#..........\n",
      "#.#........\n",
      "[Fold(dir='y', n=7), Fold(dir='x', n=5)]\n"
     ]
    }
   ],
   "source": [
    "Point = namedtuple(\"Point\", [\"x\", \"y\"])\n",
    "Fold  = namedtuple(\"Fold\",  [\"dir\", \"n\"])\n",
    "\n",
    "def readlines(filename):\n",
    "    lines = []\n",
    "    with open(filename, \"r\") as fh:\n",
    "        for l in fh:\n",
    "            lines.append(l.strip())\n",
    "    return lines\n",
    "\n",
    "def splitlist(xs, sep):\n",
    "    out = [[]]\n",
    "    for x in xs:\n",
    "        if x == sep:\n",
    "            out.append([])\n",
    "        else:\n",
    "            out[-1].append(x)\n",
    "    return out\n",
    "\n",
    "class Paper:\n",
    "    def __init__(self, points, folds):\n",
    "        self.points = points\n",
    "        self.folds  = folds\n",
    "        self.xmax = max([p.x for p in self.points])\n",
    "        self.ymax = max([p.y for p in self.points])\n",
    "        \n",
    "    def print_paper(self):\n",
    "        for y in range(self.ymax+1):\n",
    "            for x in range(self.xmax+1):\n",
    "                p = Point(x, y)\n",
    "                if p in self.points:\n",
    "                    print(\"#\", end=\"\")\n",
    "                else:\n",
    "                    print(\".\", end=\"\")\n",
    "            print()\n",
    "    \n",
    "    fold_patt = re.compile(r\"fold along (.)=(\\d+)\")\n",
    "    \n",
    "    @classmethod\n",
    "    def from_file(cls, filename):\n",
    "        pointlines, foldlines = splitlist(readlines(filename), \"\")\n",
    "        \n",
    "        points = set()\n",
    "        for p in pointlines:\n",
    "            x, y = p.split(\",\")\n",
    "            points.add(Point(int(x), int(y)))\n",
    "        #print(points)\n",
    "        \n",
    "        folds = []\n",
    "        for f in foldlines:\n",
    "            m = Paper.fold_patt.match(f)\n",
    "            if m:\n",
    "                folds.append(Fold(m.group(1), int(m.group(2))))\n",
    "        #print(folds)\n",
    "        \n",
    "        return Paper(points, folds)\n",
    "\n",
    "test = Paper.from_file(\"test.txt\")\n",
    "test.print_paper()\n",
    "print(test.folds)"
   ]
  },
  {
   "cell_type": "code",
   "execution_count": 36,
   "id": "second-region",
   "metadata": {
    "scrolled": true
   },
   "outputs": [
    {
     "name": "stdout",
     "output_type": "stream",
     "text": [
      "17\n"
     ]
    }
   ],
   "source": [
    "def fold(paper):\n",
    "    f = paper.folds[0]\n",
    "    npoints = set()\n",
    "    if f.dir == \"y\":\n",
    "        for p in paper.points:\n",
    "            if p.y <= f.n:\n",
    "                npoints.add(p)\n",
    "            else:\n",
    "                npoints.add(Point(p.x, f.n-(p.y-f.n)))\n",
    "    elif f.dir == \"x\":\n",
    "        for p in paper.points:\n",
    "            if p.x <= f.n:\n",
    "                npoints.add(p)\n",
    "            else:\n",
    "                npoints.add(Point(f.n-(p.x-f.n), p.y))\n",
    "    return Paper(npoints, paper.folds[1:])\n",
    "\n",
    "def fold_all(paper, debug=False):\n",
    "    if debug: paper.print_paper()\n",
    "    i = 0\n",
    "    while paper.folds:\n",
    "        paper = fold(paper)\n",
    "        i += 1\n",
    "        if debug: \n",
    "            print(\"-- fold {} --\".format(i))\n",
    "            paper.print_paper()\n",
    "    return paper\n",
    "\n",
    "print(len(fold(test).points))"
   ]
  },
  {
   "cell_type": "code",
   "execution_count": 37,
   "id": "racial-parent",
   "metadata": {},
   "outputs": [
    {
     "name": "stdout",
     "output_type": "stream",
     "text": [
      "607\n"
     ]
    }
   ],
   "source": [
    "inp = Paper.from_file(\"input.txt\")\n",
    "print(len(fold(inp).points))"
   ]
  },
  {
   "cell_type": "code",
   "execution_count": 38,
   "id": "medieval-cisco",
   "metadata": {},
   "outputs": [
    {
     "name": "stdout",
     "output_type": "stream",
     "text": [
      ".##..###..####.#....###..####.####.#...\n",
      "#..#.#..#....#.#....#..#.#.......#.#...\n",
      "#....#..#...#..#....#..#.###....#..#...\n",
      "#....###...#...#....###..#.....#...#...\n",
      "#..#.#....#....#....#....#....#....#...\n",
      ".##..#....####.####.#....#....####.####\n"
     ]
    }
   ],
   "source": [
    "out = fold_all(inp)\n",
    "out.print_paper()"
   ]
  },
  {
   "cell_type": "code",
   "execution_count": null,
   "id": "prompt-criterion",
   "metadata": {},
   "outputs": [],
   "source": []
  }
 ],
 "metadata": {
  "kernelspec": {
   "display_name": "Python 3",
   "language": "python",
   "name": "python3"
  },
  "language_info": {
   "codemirror_mode": {
    "name": "ipython",
    "version": 3
   },
   "file_extension": ".py",
   "mimetype": "text/x-python",
   "name": "python",
   "nbconvert_exporter": "python",
   "pygments_lexer": "ipython3",
   "version": "3.8.8"
  }
 },
 "nbformat": 4,
 "nbformat_minor": 5
}
