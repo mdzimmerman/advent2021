{
 "cells": [
  {
   "cell_type": "code",
   "execution_count": 2,
   "metadata": {},
   "outputs": [],
   "source": [
    "from collections import defaultdict,namedtuple\n",
    "\n",
    "import heapq\n",
    "import numpy as np"
   ]
  },
  {
   "cell_type": "code",
   "execution_count": 22,
   "metadata": {},
   "outputs": [
    {
     "name": "stdout",
     "output_type": "stream",
     "text": [
      "[Point(x=0, y=1), Point(x=1, y=0)]\n",
      "[Point(x=1, y=2), Point(x=2, y=3), Point(x=3, y=2), Point(x=2, y=1)]\n",
      "1163751742\n",
      "1381373672\n",
      "2136511328\n",
      "3694931569\n",
      "7463417111\n",
      "1319128137\n",
      "1359912421\n",
      "3125421639\n",
      "1293138521\n",
      "2311944581\n",
      "\n"
     ]
    }
   ],
   "source": [
    "Point = namedtuple(\"Point\", [\"x\", \"y\"])\n",
    "\n",
    "class Grid:\n",
    "    def __init__(self, grid, mult=1):\n",
    "        self.grid = grid\n",
    "        self.h = self.grid.shape[0]\n",
    "        self.w = self.grid.shape[1]\n",
    "        self.mult = mult\n",
    "        self.start = Point(0, 0)\n",
    "        self.end   = Point(self.w*self.mult-1, self.h*self.mult-1)\n",
    "    \n",
    "    @classmethod\n",
    "    def from_file(cls, filename, mult=1):\n",
    "        data = []\n",
    "        with open(filename, \"r\") as fh:\n",
    "            for line in fh:\n",
    "                data.append([int(c) for c in line.strip()])\n",
    "        return Grid(np.array(data, dtype=int), mult=mult)\n",
    "\n",
    "    def get(self, p):\n",
    "        inc = p.x // self.w + p.y // self.h\n",
    "        value = self.grid[(p.y % self.h),(p.x % self.w)] + inc\n",
    "        if value > 9:\n",
    "            return value % 10 + 1\n",
    "        else:\n",
    "            return value\n",
    "    \n",
    "    def neighbors(self, p):\n",
    "        for dx, dy in [(-1,0), (0,1), (1,0), (0,-1)]:\n",
    "            pn = Point(p.x+dx, p.y+dy)\n",
    "            if pn.x >= 0 and pn.x < self.w*self.mult and pn.y >= 0 and pn.y < self.h*self.mult:\n",
    "                yield pn\n",
    "    \n",
    "    def display(self, path=[]):\n",
    "        out = \"\"\n",
    "        for j in range(self.h*self.mult):\n",
    "            for i in range(self.w*self.mult):\n",
    "                out += str(self.get(Point(i,j)))\n",
    "            out += \"\\n\"\n",
    "        return out\n",
    "    \n",
    "test = Grid.from_file(\"test.txt\")\n",
    "print(list(test.neighbors(Point(0,0))))\n",
    "print(list(test.neighbors(Point(2,2))))\n",
    "print(test.display())"
   ]
  },
  {
   "cell_type": "code",
   "execution_count": 24,
   "metadata": {},
   "outputs": [
    {
     "name": "stdout",
     "output_type": "stream",
     "text": [
      "5\n",
      "7\n",
      "8\n",
      "9\n",
      "1\n",
      "2\n",
      "|---------|---------|---------|---------|---------\n",
      "11637517422274862853338597396444961841755517295286\n",
      "13813736722492484783351359589446246169155735727126\n",
      "21365113283247622439435873354154698446526571955763\n",
      "36949315694715142671582625378269373648937148475914\n",
      "74634171118574528222968563933317967414442817852555\n",
      "13191281372421239248353234135946434524615754563572\n",
      "13599124212461123532357223464346833457545794456865\n",
      "31254216394236532741534764385264587549637569865174\n",
      "12931385212314249632342535174345364628545647573965\n",
      "23119445813422155692453326671356443778246755488935\n",
      "22748628533385973964449618417555172952866628316397\n",
      "24924847833513595894462461691557357271266846838237\n",
      "32476224394358733541546984465265719557637682166874\n",
      "47151426715826253782693736489371484759148259586125\n",
      "85745282229685639333179674144428178525553928963666\n",
      "24212392483532341359464345246157545635726865674683\n",
      "24611235323572234643468334575457944568656815567976\n",
      "42365327415347643852645875496375698651748671976285\n",
      "23142496323425351743453646285456475739656758684176\n",
      "34221556924533266713564437782467554889357866599146\n",
      "33859739644496184175551729528666283163977739427418\n",
      "35135958944624616915573572712668468382377957949348\n",
      "43587335415469844652657195576376821668748793277985\n",
      "58262537826937364893714847591482595861259361697236\n",
      "96856393331796741444281785255539289636664139174777\n",
      "35323413594643452461575456357268656746837976785794\n",
      "35722346434683345754579445686568155679767926678187\n",
      "53476438526458754963756986517486719762859782187396\n",
      "34253517434536462854564757396567586841767869795287\n",
      "45332667135644377824675548893578665991468977611257\n",
      "44961841755517295286662831639777394274188841538529\n",
      "46246169155735727126684683823779579493488168151459\n",
      "54698446526571955763768216687487932779859814388196\n",
      "69373648937148475914825958612593616972361472718347\n",
      "17967414442817852555392896366641391747775241285888\n",
      "46434524615754563572686567468379767857948187896815\n",
      "46833457545794456865681556797679266781878137789298\n",
      "64587549637569865174867197628597821873961893298417\n",
      "45364628545647573965675868417678697952878971816398\n",
      "56443778246755488935786659914689776112579188722368\n",
      "55172952866628316397773942741888415385299952649631\n",
      "57357271266846838237795794934881681514599279262561\n",
      "65719557637682166874879327798598143881961925499217\n",
      "71484759148259586125936169723614727183472583829458\n",
      "28178525553928963666413917477752412858886352396999\n",
      "57545635726865674683797678579481878968159298917926\n",
      "57944568656815567976792667818781377892989248891319\n",
      "75698651748671976285978218739618932984172914319528\n",
      "56475739656758684176786979528789718163989182927419\n",
      "67554889357866599146897761125791887223681299833479\n",
      "\n"
     ]
    }
   ],
   "source": [
    "test5 = Grid.from_file(\"test.txt\", mult=5)\n",
    "print(test5.mult)\n",
    "print(test5.get(Point(7, 0)))\n",
    "print(test5.get(Point(17, 0)))\n",
    "print(test5.get(Point(27, 0)))\n",
    "print(test5.get(Point(37, 0)))\n",
    "print(test5.get(Point(47, 0)))\n",
    "print(\"|---------\" * 5)\n",
    "print(test5.display())"
   ]
  },
  {
   "cell_type": "code",
   "execution_count": 25,
   "metadata": {},
   "outputs": [
    {
     "data": {
      "text/plain": [
       "(40,\n",
       " [Point(x=0, y=0),\n",
       "  Point(x=0, y=1),\n",
       "  Point(x=0, y=2),\n",
       "  Point(x=1, y=2),\n",
       "  Point(x=2, y=2),\n",
       "  Point(x=3, y=2),\n",
       "  Point(x=4, y=2),\n",
       "  Point(x=5, y=2),\n",
       "  Point(x=6, y=2),\n",
       "  Point(x=6, y=3),\n",
       "  Point(x=7, y=3),\n",
       "  Point(x=7, y=4),\n",
       "  Point(x=7, y=5),\n",
       "  Point(x=8, y=5),\n",
       "  Point(x=8, y=6),\n",
       "  Point(x=8, y=7),\n",
       "  Point(x=8, y=8),\n",
       "  Point(x=9, y=8),\n",
       "  Point(x=9, y=9)])"
      ]
     },
     "execution_count": 25,
     "metadata": {},
     "output_type": "execute_result"
    }
   ],
   "source": [
    "def dijkstra(grid, start):\n",
    "    visited = set()\n",
    "    prev = dict()\n",
    "    pq = []\n",
    "    costs = defaultdict(lambda: float('inf'))\n",
    "    costs[start] = 0\n",
    "    heapq.heappush(pq, (0, start))\n",
    "    \n",
    "    while pq:\n",
    "        curr_cost, curr_node = heapq.heappop(pq)\n",
    "        visited.add(curr_node)\n",
    "        \n",
    "        for next_node in grid.neighbors(curr_node):\n",
    "            if next_node in visited:\n",
    "                continue\n",
    "\n",
    "            next_cost = costs[curr_node] + grid.get(next_node)\n",
    "            if next_cost < costs[next_node]:\n",
    "                prev[next_node] = curr_node\n",
    "                costs[next_node] = next_cost\n",
    "                heapq.heappush(pq, (next_cost, next_node))\n",
    "    \n",
    "    return prev, costs\n",
    "\n",
    "def get_shortest_path(grid, start, end):\n",
    "    prev, costs = dijkstra(grid, start)\n",
    "\n",
    "    path = []\n",
    "    curr = end\n",
    "    while curr in prev:\n",
    "        path.append(curr)\n",
    "        curr = prev[curr]\n",
    "    path.append(curr)\n",
    "    \n",
    "    #for n in reversed(path):\n",
    "    #    print(n)\n",
    "    \n",
    "    return costs[end], list(reversed(path))\n",
    "        \n",
    "get_shortest_path(test, Point(0,0), test.end)"
   ]
  },
  {
   "cell_type": "code",
   "execution_count": 26,
   "metadata": {},
   "outputs": [
    {
     "data": {
      "text/plain": [
       "(315,\n",
       " [Point(x=0, y=0),\n",
       "  Point(x=0, y=1),\n",
       "  Point(x=0, y=2),\n",
       "  Point(x=0, y=3),\n",
       "  Point(x=0, y=4),\n",
       "  Point(x=0, y=5),\n",
       "  Point(x=0, y=6),\n",
       "  Point(x=0, y=7),\n",
       "  Point(x=0, y=8),\n",
       "  Point(x=0, y=9),\n",
       "  Point(x=0, y=10),\n",
       "  Point(x=0, y=11),\n",
       "  Point(x=0, y=12),\n",
       "  Point(x=1, y=12),\n",
       "  Point(x=2, y=12),\n",
       "  Point(x=2, y=13),\n",
       "  Point(x=2, y=14),\n",
       "  Point(x=2, y=15),\n",
       "  Point(x=3, y=15),\n",
       "  Point(x=3, y=16),\n",
       "  Point(x=4, y=16),\n",
       "  Point(x=5, y=16),\n",
       "  Point(x=6, y=16),\n",
       "  Point(x=7, y=16),\n",
       "  Point(x=8, y=16),\n",
       "  Point(x=9, y=16),\n",
       "  Point(x=9, y=17),\n",
       "  Point(x=9, y=18),\n",
       "  Point(x=10, y=18),\n",
       "  Point(x=11, y=18),\n",
       "  Point(x=12, y=18),\n",
       "  Point(x=12, y=19),\n",
       "  Point(x=13, y=19),\n",
       "  Point(x=14, y=19),\n",
       "  Point(x=14, y=20),\n",
       "  Point(x=14, y=21),\n",
       "  Point(x=15, y=21),\n",
       "  Point(x=15, y=22),\n",
       "  Point(x=16, y=22),\n",
       "  Point(x=16, y=23),\n",
       "  Point(x=16, y=24),\n",
       "  Point(x=16, y=25),\n",
       "  Point(x=17, y=25),\n",
       "  Point(x=18, y=25),\n",
       "  Point(x=19, y=25),\n",
       "  Point(x=19, y=26),\n",
       "  Point(x=19, y=27),\n",
       "  Point(x=19, y=28),\n",
       "  Point(x=20, y=28),\n",
       "  Point(x=21, y=28),\n",
       "  Point(x=22, y=28),\n",
       "  Point(x=22, y=29),\n",
       "  Point(x=23, y=29),\n",
       "  Point(x=24, y=29),\n",
       "  Point(x=24, y=30),\n",
       "  Point(x=25, y=30),\n",
       "  Point(x=26, y=30),\n",
       "  Point(x=27, y=30),\n",
       "  Point(x=27, y=31),\n",
       "  Point(x=27, y=32),\n",
       "  Point(x=27, y=33),\n",
       "  Point(x=28, y=33),\n",
       "  Point(x=29, y=33),\n",
       "  Point(x=29, y=34),\n",
       "  Point(x=30, y=34),\n",
       "  Point(x=31, y=34),\n",
       "  Point(x=32, y=34),\n",
       "  Point(x=32, y=35),\n",
       "  Point(x=32, y=36),\n",
       "  Point(x=33, y=36),\n",
       "  Point(x=33, y=37),\n",
       "  Point(x=34, y=37),\n",
       "  Point(x=34, y=38),\n",
       "  Point(x=34, y=39),\n",
       "  Point(x=35, y=39),\n",
       "  Point(x=36, y=39),\n",
       "  Point(x=37, y=39),\n",
       "  Point(x=37, y=40),\n",
       "  Point(x=37, y=41),\n",
       "  Point(x=37, y=42),\n",
       "  Point(x=37, y=43),\n",
       "  Point(x=38, y=43),\n",
       "  Point(x=39, y=43),\n",
       "  Point(x=40, y=43),\n",
       "  Point(x=41, y=43),\n",
       "  Point(x=41, y=44),\n",
       "  Point(x=41, y=45),\n",
       "  Point(x=41, y=46),\n",
       "  Point(x=42, y=46),\n",
       "  Point(x=42, y=47),\n",
       "  Point(x=43, y=47),\n",
       "  Point(x=44, y=47),\n",
       "  Point(x=45, y=47),\n",
       "  Point(x=45, y=48),\n",
       "  Point(x=45, y=49),\n",
       "  Point(x=46, y=49),\n",
       "  Point(x=47, y=49),\n",
       "  Point(x=48, y=49),\n",
       "  Point(x=49, y=49)])"
      ]
     },
     "execution_count": 26,
     "metadata": {},
     "output_type": "execute_result"
    }
   ],
   "source": [
    "get_shortest_path(test5, test5.start, test5.end)"
   ]
  },
  {
   "cell_type": "code",
   "execution_count": 23,
   "metadata": {},
   "outputs": [
    {
     "data": {
      "text/plain": [
       "581"
      ]
     },
     "execution_count": 23,
     "metadata": {},
     "output_type": "execute_result"
    }
   ],
   "source": [
    "inp = Grid.from_file(\"input.txt\")\n",
    "get_shortest_path(inp, inp.start, inp.end)[0]"
   ]
  },
  {
   "cell_type": "code",
   "execution_count": 27,
   "metadata": {},
   "outputs": [
    {
     "data": {
      "text/plain": [
       "2916"
      ]
     },
     "execution_count": 27,
     "metadata": {},
     "output_type": "execute_result"
    }
   ],
   "source": [
    "inp5 = Grid.from_file(\"input.txt\", mult=5)\n",
    "get_shortest_path(inp5, inp5.start, inp5.end)[0]"
   ]
  },
  {
   "cell_type": "code",
   "execution_count": null,
   "metadata": {},
   "outputs": [],
   "source": []
  }
 ],
 "metadata": {
  "kernelspec": {
   "display_name": "Python 3",
   "language": "python",
   "name": "python3"
  },
  "language_info": {
   "codemirror_mode": {
    "name": "ipython",
    "version": 3
   },
   "file_extension": ".py",
   "mimetype": "text/x-python",
   "name": "python",
   "nbconvert_exporter": "python",
   "pygments_lexer": "ipython3",
   "version": "3.8.8"
  }
 },
 "nbformat": 4,
 "nbformat_minor": 2
}
