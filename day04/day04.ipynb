{
 "cells": [
  {
   "cell_type": "code",
   "execution_count": 1,
   "metadata": {},
   "outputs": [],
   "source": [
    "import numpy as np"
   ]
  },
  {
   "cell_type": "code",
   "execution_count": 5,
   "metadata": {},
   "outputs": [
    {
     "data": {
      "text/plain": [
       "['7,4,9,5,11,17,23,2,0,14,21,24,10,16,13,6,15,25,12,22,18,20,8,19,3,26,1',\n",
       " '',\n",
       " '22 13 17 11  0',\n",
       " '8  2 23  4 24',\n",
       " '21  9 14 16  7',\n",
       " '6 10  3 18  5',\n",
       " '1 12 20 15 19',\n",
       " '',\n",
       " '3 15  0  2 22',\n",
       " '9 18 13 17  5',\n",
       " '19  8  7 25 23',\n",
       " '20 11 10 24  4',\n",
       " '14 21 16 12  6',\n",
       " '',\n",
       " '14 21 17 24  4',\n",
       " '10 16 15  9 19',\n",
       " '18  8 23 26 20',\n",
       " '22 11 13  6  5',\n",
       " '2  0 12  3  7']"
      ]
     },
     "execution_count": 5,
     "metadata": {},
     "output_type": "execute_result"
    }
   ],
   "source": [
    "def readlines(filename):\n",
    "    d = []\n",
    "    with open(filename, \"r\") as fh:\n",
    "        for l in fh:\n",
    "            d.append(l.strip())\n",
    "    return d\n",
    "            \n",
    "test = readlines(\"test.txt\")\n",
    "test"
   ]
  },
  {
   "cell_type": "code",
   "execution_count": 6,
   "metadata": {},
   "outputs": [
    {
     "data": {
      "text/plain": [
       "[['7,4,9,5,11,17,23,2,0,14,21,24,10,16,13,6,15,25,12,22,18,20,8,19,3,26,1'],\n",
       " ['22 13 17 11  0',\n",
       "  '8  2 23  4 24',\n",
       "  '21  9 14 16  7',\n",
       "  '6 10  3 18  5',\n",
       "  '1 12 20 15 19'],\n",
       " ['3 15  0  2 22',\n",
       "  '9 18 13 17  5',\n",
       "  '19  8  7 25 23',\n",
       "  '20 11 10 24  4',\n",
       "  '14 21 16 12  6'],\n",
       " ['14 21 17 24  4',\n",
       "  '10 16 15  9 19',\n",
       "  '18  8 23 26 20',\n",
       "  '22 11 13  6  5',\n",
       "  '2  0 12  3  7']]"
      ]
     },
     "execution_count": 6,
     "metadata": {},
     "output_type": "execute_result"
    }
   ],
   "source": [
    "def splitlist(xs, sep):\n",
    "    out = [[]]\n",
    "    for x in xs:\n",
    "        if x == sep:\n",
    "            out.append([])\n",
    "        else:\n",
    "            out[-1].append(x)\n",
    "    return out\n",
    "\n",
    "splitlist(test, \"\")"
   ]
  },
  {
   "cell_type": "code",
   "execution_count": 19,
   "metadata": {},
   "outputs": [
    {
     "name": "stdout",
     "output_type": "stream",
     "text": [
      "[[22 13 17 11  0]\n",
      " [ 8  2 23  4 24]\n",
      " [21  9 14 16  7]\n",
      " [ 6 10  3 18  5]\n",
      " [ 1 12 20 15 19]]\n",
      "8\n",
      "13\n",
      "[ 8  2 23  4 24]\n",
      "[13  2  9 10 12]\n",
      "(5, 5)\n"
     ]
    }
   ],
   "source": [
    "def readmatrix(rows):\n",
    "    out = []\n",
    "    for row in rows:\n",
    "        out.append([int(x) for x in row.split()])\n",
    "    return np.array(out)\n",
    "\n",
    "m1 = readmatrix(splitlist(test, \"\")[1])\n",
    "print(m1)\n",
    "print(m1[1,0])\n",
    "print(m1[0,1])\n",
    "print(m1[1,:])\n",
    "print(m1[:,1])\n",
    "print(m1.shape)"
   ]
  },
  {
   "cell_type": "code",
   "execution_count": null,
   "metadata": {},
   "outputs": [],
   "source": []
  }
 ],
 "metadata": {
  "kernelspec": {
   "display_name": "Python 3 (ipykernel)",
   "language": "python",
   "name": "python3"
  },
  "language_info": {
   "codemirror_mode": {
    "name": "ipython",
    "version": 3
   },
   "file_extension": ".py",
   "mimetype": "text/x-python",
   "name": "python",
   "nbconvert_exporter": "python",
   "pygments_lexer": "ipython3",
   "version": "3.7.3"
  }
 },
 "nbformat": 4,
 "nbformat_minor": 2
}
