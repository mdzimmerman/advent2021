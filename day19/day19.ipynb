{
 "cells": [
  {
   "cell_type": "code",
   "execution_count": 4,
   "id": "interstate-alcohol",
   "metadata": {},
   "outputs": [],
   "source": [
    "import numpy as np\n",
    "import re"
   ]
  },
  {
   "cell_type": "code",
   "execution_count": 6,
   "id": "wicked-spirituality",
   "metadata": {},
   "outputs": [
    {
     "data": {
      "text/plain": [
       "array([[ 404, -588, -901],\n",
       "       [ 528, -643,  409],\n",
       "       [-838,  591,  734],\n",
       "       [ 390, -675, -793],\n",
       "       [-537, -823, -458],\n",
       "       [-485, -357,  347],\n",
       "       [-345, -311,  381],\n",
       "       [-661, -816, -575],\n",
       "       [-876,  649,  763],\n",
       "       [-618, -824, -621],\n",
       "       [ 553,  345, -567],\n",
       "       [ 474,  580,  667],\n",
       "       [-447, -329,  318],\n",
       "       [-584,  868, -557],\n",
       "       [ 544, -627, -890],\n",
       "       [ 564,  392, -477],\n",
       "       [ 455,  729,  728],\n",
       "       [-892,  524,  684],\n",
       "       [-689,  845, -530],\n",
       "       [ 423, -701,  434],\n",
       "       [   7,  -33,  -71],\n",
       "       [ 630,  319, -379],\n",
       "       [ 443,  580,  662],\n",
       "       [-789,  900, -551],\n",
       "       [ 459, -707,  401]])"
      ]
     },
     "execution_count": 6,
     "metadata": {},
     "output_type": "execute_result"
    }
   ],
   "source": [
    "def readinput(filename):\n",
    "    out = []\n",
    "    with open(filename, \"r\") as fh:\n",
    "        data = None\n",
    "        for line in fh:\n",
    "            line = line.strip()\n",
    "            if re.match(\"^---\", line):\n",
    "                if data is not None:\n",
    "                    out.append(np.array(data, dtype=int))\n",
    "                data = []\n",
    "            elif line != \"\":\n",
    "                x, y, z = [int(x) for x in line.split(\",\")]\n",
    "                data.append([x, y, z])\n",
    "    out.append(np.array(data, dtype=int))\n",
    "    return out\n",
    "\n",
    "test = readinput(\"test.txt\")\n",
    "test[0]"
   ]
  },
  {
   "cell_type": "code",
   "execution_count": null,
   "id": "activated-rabbit",
   "metadata": {},
   "outputs": [],
   "source": []
  }
 ],
 "metadata": {
  "kernelspec": {
   "display_name": "Python 3",
   "language": "python",
   "name": "python3"
  },
  "language_info": {
   "codemirror_mode": {
    "name": "ipython",
    "version": 3
   },
   "file_extension": ".py",
   "mimetype": "text/x-python",
   "name": "python",
   "nbconvert_exporter": "python",
   "pygments_lexer": "ipython3",
   "version": "3.8.8"
  }
 },
 "nbformat": 4,
 "nbformat_minor": 5
}
