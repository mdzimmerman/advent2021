{
 "cells": [
  {
   "cell_type": "code",
   "execution_count": 21,
   "id": "frequent-substitute",
   "metadata": {},
   "outputs": [],
   "source": [
    "import numpy as np"
   ]
  },
  {
   "cell_type": "code",
   "execution_count": 22,
   "id": "adverse-moisture",
   "metadata": {},
   "outputs": [
    {
     "data": {
      "text/plain": [
       "array([16,  1,  2,  0,  4,  2,  7,  1,  2, 14])"
      ]
     },
     "execution_count": 22,
     "metadata": {},
     "output_type": "execute_result"
    }
   ],
   "source": [
    "test = np.array([int(x) for x in \"16,1,2,0,4,2,7,1,2,14\".split(\",\")], dtype=int)\n",
    "test"
   ]
  },
  {
   "cell_type": "code",
   "execution_count": 24,
   "id": "beautiful-train",
   "metadata": {},
   "outputs": [
    {
     "data": {
      "text/plain": [
       "4.9"
      ]
     },
     "execution_count": 24,
     "metadata": {},
     "output_type": "execute_result"
    }
   ],
   "source": [
    "np.mean(test)"
   ]
  },
  {
   "cell_type": "code",
   "execution_count": 33,
   "id": "standard-porcelain",
   "metadata": {},
   "outputs": [
    {
     "data": {
      "text/plain": [
       "37"
      ]
     },
     "execution_count": 33,
     "metadata": {},
     "output_type": "execute_result"
    }
   ],
   "source": [
    "def find_min(xs, debug=False):\n",
    "    resid_min = None\n",
    "    for n in range(xs.min(), xs.max()+1):\n",
    "        resid = np.sum(np.abs(xs - n))\n",
    "        if debug: print(\"{0:3d} {1:3d}\".format(n, resid))\n",
    "        if resid_min is None or resid < resid_min:\n",
    "            resid_min = resid\n",
    "    return resid_min\n",
    "    \n",
    "find_min(test)"
   ]
  },
  {
   "cell_type": "code",
   "execution_count": 40,
   "id": "random-switzerland",
   "metadata": {},
   "outputs": [],
   "source": [
    "def read_file(filename):\n",
    "    out = \"\"\n",
    "    with open(filename, \"r\") as fh:\n",
    "        for l in fh:\n",
    "            out += l.strip()\n",
    "    return np.array([int(x) for x in out.split(\",\")], dtype=int)\n",
    "\n",
    "inp = read_file(\"input.txt\")"
   ]
  },
  {
   "cell_type": "code",
   "execution_count": 35,
   "id": "announced-catch",
   "metadata": {},
   "outputs": [
    {
     "data": {
      "text/plain": [
       "342641"
      ]
     },
     "execution_count": 35,
     "metadata": {},
     "output_type": "execute_result"
    }
   ],
   "source": [
    "find_min(inp)"
   ]
  },
  {
   "cell_type": "code",
   "execution_count": 41,
   "id": "informative-kinase",
   "metadata": {},
   "outputs": [
    {
     "data": {
      "text/plain": [
       "168"
      ]
     },
     "execution_count": 41,
     "metadata": {},
     "output_type": "execute_result"
    }
   ],
   "source": [
    "def find_min2(xs, debug=False):\n",
    "    resid_min = None\n",
    "    for n in range(xs.min(), xs.max()+1):\n",
    "        diff = np.abs(xs - n)\n",
    "        resid = np.sum(diff * (diff+1) // 2)\n",
    "        if debug: print(\"{0:3d} {1:3d}\".format(n, resid))\n",
    "        if resid_min is None or resid < resid_min:\n",
    "            resid_min = resid\n",
    "    return resid_min\n",
    "\n",
    "find_min2(test)"
   ]
  },
  {
   "cell_type": "code",
   "execution_count": 42,
   "id": "facial-spiritual",
   "metadata": {},
   "outputs": [
    {
     "data": {
      "text/plain": [
       "93006301"
      ]
     },
     "execution_count": 42,
     "metadata": {},
     "output_type": "execute_result"
    }
   ],
   "source": [
    "find_min2(inp)"
   ]
  },
  {
   "cell_type": "code",
   "execution_count": null,
   "id": "level-engineering",
   "metadata": {},
   "outputs": [],
   "source": []
  }
 ],
 "metadata": {
  "kernelspec": {
   "display_name": "Python 3",
   "language": "python",
   "name": "python3"
  },
  "language_info": {
   "codemirror_mode": {
    "name": "ipython",
    "version": 3
   },
   "file_extension": ".py",
   "mimetype": "text/x-python",
   "name": "python",
   "nbconvert_exporter": "python",
   "pygments_lexer": "ipython3",
   "version": "3.8.8"
  }
 },
 "nbformat": 4,
 "nbformat_minor": 5
}
