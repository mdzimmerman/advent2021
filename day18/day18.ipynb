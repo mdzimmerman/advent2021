{
 "cells": [
  {
   "cell_type": "code",
   "execution_count": 1,
   "id": "sunrise-preference",
   "metadata": {},
   "outputs": [],
   "source": [
    "%load_ext autoreload\n",
    "%autoreload 2"
   ]
  },
  {
   "cell_type": "code",
   "execution_count": 2,
   "id": "simple-trigger",
   "metadata": {},
   "outputs": [],
   "source": [
    "import functools\n",
    "\n",
    "from snailnum import SnailNum"
   ]
  },
  {
   "cell_type": "code",
   "execution_count": 3,
   "id": "general-slovakia",
   "metadata": {},
   "outputs": [
    {
     "name": "stdout",
     "output_type": "stream",
     "text": [
      "[1,2]\n",
      "Value(value=1, pos=0, depth=0, path=[])\n",
      "Value(value=2, pos=1, depth=0, path=[])\n",
      "[1,2]\n",
      "\n",
      "[[1,2],3]\n",
      "Value(value=1, pos=0, depth=1, path=[0])\n",
      "Value(value=2, pos=1, depth=1, path=[0])\n",
      "Value(value=3, pos=1, depth=0, path=[])\n",
      "[[1,2],3]\n",
      "\n",
      "[9,[8,7]]\n",
      "Value(value=9, pos=0, depth=0, path=[])\n",
      "Value(value=8, pos=0, depth=1, path=[1])\n",
      "Value(value=7, pos=1, depth=1, path=[1])\n",
      "[9,[8,7]]\n",
      "\n",
      "[[1,9],[8,5]]\n",
      "Value(value=1, pos=0, depth=1, path=[0])\n",
      "Value(value=9, pos=1, depth=1, path=[0])\n",
      "Value(value=8, pos=0, depth=1, path=[1])\n",
      "Value(value=5, pos=1, depth=1, path=[1])\n",
      "[[1,9],[8,5]]\n",
      "\n",
      "[[[[1,2],[3,4]],[[5,6],[7,8]]],9]\n",
      "Value(value=1, pos=0, depth=3, path=[0, 0, 0])\n",
      "Value(value=2, pos=1, depth=3, path=[0, 0, 0])\n",
      "Value(value=3, pos=0, depth=3, path=[0, 0, 1])\n",
      "Value(value=4, pos=1, depth=3, path=[0, 0, 1])\n",
      "Value(value=5, pos=0, depth=3, path=[0, 1, 0])\n",
      "Value(value=6, pos=1, depth=3, path=[0, 1, 0])\n",
      "Value(value=7, pos=0, depth=3, path=[0, 1, 1])\n",
      "Value(value=8, pos=1, depth=3, path=[0, 1, 1])\n",
      "Value(value=9, pos=1, depth=0, path=[])\n",
      "[[[[1,2],[3,4]],[[5,6],[7,8]]],9]\n",
      "\n",
      "[[[9,[3,8]],[[0,9],6]],[[[3,7],[4,9]],3]]\n",
      "Value(value=9, pos=0, depth=2, path=[0, 0])\n",
      "Value(value=3, pos=0, depth=3, path=[0, 0, 1])\n",
      "Value(value=8, pos=1, depth=3, path=[0, 0, 1])\n",
      "Value(value=0, pos=0, depth=3, path=[0, 1, 0])\n",
      "Value(value=9, pos=1, depth=3, path=[0, 1, 0])\n",
      "Value(value=6, pos=1, depth=2, path=[0, 1])\n",
      "Value(value=3, pos=0, depth=3, path=[1, 0, 0])\n",
      "Value(value=7, pos=1, depth=3, path=[1, 0, 0])\n",
      "Value(value=4, pos=0, depth=3, path=[1, 0, 1])\n",
      "Value(value=9, pos=1, depth=3, path=[1, 0, 1])\n",
      "Value(value=3, pos=1, depth=1, path=[1])\n",
      "[[[9,[3,8]],[[0,9],6]],[[[3,7],[4,9]],3]]\n",
      "\n",
      "[[[[1,3],[5,3]],[[1,3],[8,7]]],[[[4,9],[6,9]],[[8,2],[7,3]]]]\n",
      "Value(value=1, pos=0, depth=3, path=[0, 0, 0])\n",
      "Value(value=3, pos=1, depth=3, path=[0, 0, 0])\n",
      "Value(value=5, pos=0, depth=3, path=[0, 0, 1])\n",
      "Value(value=3, pos=1, depth=3, path=[0, 0, 1])\n",
      "Value(value=1, pos=0, depth=3, path=[0, 1, 0])\n",
      "Value(value=3, pos=1, depth=3, path=[0, 1, 0])\n",
      "Value(value=8, pos=0, depth=3, path=[0, 1, 1])\n",
      "Value(value=7, pos=1, depth=3, path=[0, 1, 1])\n",
      "Value(value=4, pos=0, depth=3, path=[1, 0, 0])\n",
      "Value(value=9, pos=1, depth=3, path=[1, 0, 0])\n",
      "Value(value=6, pos=0, depth=3, path=[1, 0, 1])\n",
      "Value(value=9, pos=1, depth=3, path=[1, 0, 1])\n",
      "Value(value=8, pos=0, depth=3, path=[1, 1, 0])\n",
      "Value(value=2, pos=1, depth=3, path=[1, 1, 0])\n",
      "Value(value=7, pos=0, depth=3, path=[1, 1, 1])\n",
      "Value(value=3, pos=1, depth=3, path=[1, 1, 1])\n",
      "[[[[1,3],[5,3]],[[1,3],[8,7]]],[[[4,9],[6,9]],[[8,2],[7,3]]]]\n",
      "\n"
     ]
    }
   ],
   "source": [
    "with open(\"test-parse.txt\", \"r\") as fh:\n",
    "    for l in fh:\n",
    "        l = l.strip()\n",
    "        sn = SnailNum.from_string(l)\n",
    "        print(l)\n",
    "        for v in sn.values:\n",
    "            print(v)\n",
    "        print(sn)\n",
    "        print()\n"
   ]
  },
  {
   "cell_type": "code",
   "execution_count": 4,
   "id": "celtic-lithuania",
   "metadata": {},
   "outputs": [
    {
     "name": "stdout",
     "output_type": "stream",
     "text": [
      "[[[[[9,8],1],2],3],4]\n",
      "[[[[0,9],2],3],4]\n",
      "\n",
      "[7,[6,[5,[4,[3,2]]]]]\n",
      "[7,[6,[5,[7,0]]]]\n",
      "\n",
      "[[6,[5,[4,[3,2]]]],1]\n",
      "[[6,[5,[7,0]]],3]\n",
      "\n",
      "[[3,[2,[1,[7,3]]]],[6,[5,[4,[3,2]]]]]\n",
      "[[3,[2,[8,0]]],[9,[5,[4,[3,2]]]]]\n",
      "\n",
      "[[3,[2,[8,0]]],[9,[5,[4,[3,2]]]]]\n",
      "[[3,[2,[8,0]]],[9,[5,[7,0]]]]\n",
      "\n"
     ]
    }
   ],
   "source": [
    "with open(\"test-explode.txt\", \"r\") as fh:\n",
    "    for l in fh:\n",
    "        l = l.strip()\n",
    "        sn = SnailNum.from_string(l)\n",
    "        print(sn)\n",
    "        en = sn.explode()\n",
    "        print(en)\n",
    "        print()"
   ]
  },
  {
   "cell_type": "code",
   "execution_count": 5,
   "id": "massive-shore",
   "metadata": {},
   "outputs": [
    {
     "name": "stdout",
     "output_type": "stream",
     "text": [
      "[[14,15],[16,17]]\n",
      "[[[7,7],15],[16,17]]\n",
      "[[[7,7],[7,8]],[16,17]]\n",
      "[[[7,7],[7,8]],[[8,8],17]]\n",
      "[[[7,7],[7,8]],[[8,8],[8,9]]]\n"
     ]
    }
   ],
   "source": [
    "sn = SnailNum.from_string(\"[[14,15],[16,17]]\")\n",
    "while True:\n",
    "    print(sn)\n",
    "    i = sn.find_split()\n",
    "    if i == -1:\n",
    "        break\n",
    "    sn = sn.split()"
   ]
  },
  {
   "cell_type": "code",
   "execution_count": 6,
   "id": "romance-occurrence",
   "metadata": {},
   "outputs": [
    {
     "data": {
      "text/plain": [
       "[[[[0,7],4],[[7,8],[6,0]]],[8,1]]"
      ]
     },
     "execution_count": 6,
     "metadata": {},
     "output_type": "execute_result"
    }
   ],
   "source": [
    "sn = SnailNum.from_string(\"[[[[[4,3],4],4],[7,[[8,4],9]]],[1,1]]\")\n",
    "sn.reduce(debug=True)"
   ]
  },
  {
   "cell_type": "code",
   "execution_count": 7,
   "id": "personal-yugoslavia",
   "metadata": {},
   "outputs": [
    {
     "data": {
      "text/plain": [
       "[[[[0,7],4],[[7,8],[6,0]]],[8,1]]"
      ]
     },
     "execution_count": 7,
     "metadata": {},
     "output_type": "execute_result"
    }
   ],
   "source": [
    "sn1 = SnailNum.from_string(\"[[[[4,3],4],4],[7,[[8,4],9]]]\")\n",
    "sn2 = SnailNum.from_string(\"[1,1]\")\n",
    "sn1+sn2"
   ]
  },
  {
   "cell_type": "code",
   "execution_count": 8,
   "id": "separate-approval",
   "metadata": {},
   "outputs": [
    {
     "data": {
      "text/plain": [
       "[[[[1,1],[2,2]],[3,3]],[4,4]]"
      ]
     },
     "execution_count": 8,
     "metadata": {},
     "output_type": "execute_result"
    }
   ],
   "source": [
    "def read_string(s):\n",
    "    for l in s.split(\"\\n\"):\n",
    "        l = l.strip()\n",
    "        if l != \"\":\n",
    "            yield SnailNum.from_string(l)\n",
    "\n",
    "def add_all(xs):\n",
    "    return functools.reduce(lambda a, b: a+b, xs)\n",
    "            \n",
    "add_all(read_string(\"\"\"\n",
    "[1,1]\n",
    "[2,2]\n",
    "[3,3]\n",
    "[4,4]\n",
    "\"\"\"))"
   ]
  },
  {
   "cell_type": "code",
   "execution_count": 9,
   "id": "broad-connection",
   "metadata": {},
   "outputs": [
    {
     "data": {
      "text/plain": [
       "[[[[3,0],[5,3]],[4,4]],[5,5]]"
      ]
     },
     "execution_count": 9,
     "metadata": {},
     "output_type": "execute_result"
    }
   ],
   "source": [
    "add_all(read_string(\"\"\"\n",
    "[1,1]\n",
    "[2,2]\n",
    "[3,3]\n",
    "[4,4]\n",
    "[5,5]\n",
    "\"\"\"))"
   ]
  },
  {
   "cell_type": "code",
   "execution_count": 10,
   "id": "tight-style",
   "metadata": {},
   "outputs": [
    {
     "data": {
      "text/plain": [
       "[[[[5,0],[7,4]],[5,5]],[6,6]]"
      ]
     },
     "execution_count": 10,
     "metadata": {},
     "output_type": "execute_result"
    }
   ],
   "source": [
    "add_all(read_string(\"\"\"\n",
    "[1,1]\n",
    "[2,2]\n",
    "[3,3]\n",
    "[4,4]\n",
    "[5,5]\n",
    "[6,6]\n",
    "\"\"\"))"
   ]
  },
  {
   "cell_type": "code",
   "execution_count": 11,
   "id": "dominican-updating",
   "metadata": {},
   "outputs": [
    {
     "data": {
      "text/plain": [
       "[[[[8,7],[7,7]],[[8,6],[7,7]]],[[[0,7],[6,6]],[8,7]]]"
      ]
     },
     "execution_count": 11,
     "metadata": {},
     "output_type": "execute_result"
    }
   ],
   "source": [
    "add_all(read_string(\"\"\"\n",
    "[[[0,[4,5]],[0,0]],[[[4,5],[2,6]],[9,5]]]\n",
    "[7,[[[3,7],[4,3]],[[6,3],[8,8]]]]\n",
    "[[2,[[0,8],[3,4]]],[[[6,7],1],[7,[1,6]]]]\n",
    "[[[[2,4],7],[6,[0,5]]],[[[6,8],[2,8]],[[2,1],[4,5]]]]\n",
    "[7,[5,[[3,8],[1,4]]]]\n",
    "[[2,[2,2]],[8,[8,1]]]\n",
    "[2,9]\n",
    "[1,[[[9,3],9],[[9,0],[0,7]]]]\n",
    "[[[5,[7,4]],7],1]\n",
    "[[[[4,2],2],6],[8,7]]\n",
    "\"\"\"))\n"
   ]
  },
  {
   "cell_type": "code",
   "execution_count": 12,
   "id": "wrapped-notebook",
   "metadata": {},
   "outputs": [
    {
     "name": "stdout",
     "output_type": "stream",
     "text": [
      "[[1,2],[[3,4],5]]\n",
      "143\n",
      "\n",
      "[[[[0,7],4],[[7,8],[6,0]]],[8,1]]\n",
      "1384\n",
      "\n",
      "[[[[1,1],[2,2]],[3,3]],[4,4]]\n",
      "445\n",
      "\n",
      "[[[[3,0],[5,3]],[4,4]],[5,5]]\n",
      "791\n",
      "\n",
      "[[[[5,0],[7,4]],[5,5]],[6,6]]\n",
      "1137\n",
      "\n",
      "[[[[8,7],[7,7]],[[8,6],[7,7]]],[[[0,7],[6,6]],[8,7]]]\n",
      "3488\n",
      "\n"
     ]
    }
   ],
   "source": [
    "def test_magnitude(xs):\n",
    "    for x in xs:\n",
    "        print(x)\n",
    "        print(x.magnitude())\n",
    "        print()\n",
    "\n",
    "test_magnitude(read_string(\"\"\"\n",
    "[[1,2],[[3,4],5]]\n",
    "[[[[0,7],4],[[7,8],[6,0]]],[8,1]]\n",
    "[[[[1,1],[2,2]],[3,3]],[4,4]]\n",
    "[[[[3,0],[5,3]],[4,4]],[5,5]]\n",
    "[[[[5,0],[7,4]],[5,5]],[6,6]]\n",
    "[[[[8,7],[7,7]],[[8,6],[7,7]]],[[[0,7],[6,6]],[8,7]]]\n",
    "\"\"\"))"
   ]
  },
  {
   "cell_type": "code",
   "execution_count": 14,
   "id": "scheduled-check",
   "metadata": {},
   "outputs": [
    {
     "name": "stdout",
     "output_type": "stream",
     "text": [
      "[[[[6,6],[7,6]],[[7,7],[7,0]]],[[[7,7],[7,7]],[[7,8],[9,9]]]]\n"
     ]
    },
    {
     "data": {
      "text/plain": [
       "4140"
      ]
     },
     "execution_count": 14,
     "metadata": {},
     "output_type": "execute_result"
    }
   ],
   "source": [
    "def readfile(filename):\n",
    "    out = []\n",
    "    with open(filename, \"r\") as fh:\n",
    "        for l in fh:\n",
    "            out.append(SnailNum.from_string(l.strip()))\n",
    "    return out\n",
    "\n",
    "def part1(xs):\n",
    "    out = add_all(xs)\n",
    "    print(out)\n",
    "    return out.magnitude()\n",
    "\n",
    "test = readfile(\"test.txt\")\n",
    "part1(test)"
   ]
  },
  {
   "cell_type": "code",
   "execution_count": 15,
   "id": "golden-austin",
   "metadata": {},
   "outputs": [
    {
     "name": "stdout",
     "output_type": "stream",
     "text": [
      "[[[[6,0],[6,7]],[[7,7],[7,7]]],[[[7,7],[7,8]],[9,[5,5]]]]\n"
     ]
    },
    {
     "data": {
      "text/plain": [
       "3494"
      ]
     },
     "execution_count": 15,
     "metadata": {},
     "output_type": "execute_result"
    }
   ],
   "source": [
    "inp = readfile(\"input.txt\")\n",
    "part1(inp)"
   ]
  },
  {
   "cell_type": "code",
   "execution_count": 20,
   "id": "chronic-pastor",
   "metadata": {},
   "outputs": [
    {
     "data": {
      "text/plain": [
       "(3993, [[[[7,8],[6,6]],[[6,0],[7,7]]],[[[7,8],[8,8]],[[7,9],[0,6]]]])"
      ]
     },
     "execution_count": 20,
     "metadata": {},
     "output_type": "execute_result"
    }
   ],
   "source": [
    "def part2(xs):\n",
    "    magmax = (0, None)\n",
    "    for i, a in enumerate(xs):\n",
    "        for j, b in enumerate(xs):\n",
    "            if i == j:\n",
    "                continue\n",
    "            out = a + b\n",
    "            mag = out.magnitude()\n",
    "            if mag > magmax[0]:\n",
    "                magmax = (mag, out)\n",
    "    return magmax\n",
    "            \n",
    "part2(test)"
   ]
  },
  {
   "cell_type": "code",
   "execution_count": 21,
   "id": "behavioral-ceremony",
   "metadata": {},
   "outputs": [
    {
     "data": {
      "text/plain": [
       "(4712, [[[[6,7],[9,9]],[[9,9],[9,8]]],[[[8,8],[8,8]],[[0,8],[8,8]]]])"
      ]
     },
     "execution_count": 21,
     "metadata": {},
     "output_type": "execute_result"
    }
   ],
   "source": [
    "part2(inp)"
   ]
  },
  {
   "cell_type": "code",
   "execution_count": null,
   "id": "wooden-instrumentation",
   "metadata": {},
   "outputs": [],
   "source": []
  }
 ],
 "metadata": {
  "kernelspec": {
   "display_name": "Python 3",
   "language": "python",
   "name": "python3"
  },
  "language_info": {
   "codemirror_mode": {
    "name": "ipython",
    "version": 3
   },
   "file_extension": ".py",
   "mimetype": "text/x-python",
   "name": "python",
   "nbconvert_exporter": "python",
   "pygments_lexer": "ipython3",
   "version": "3.8.8"
  }
 },
 "nbformat": 4,
 "nbformat_minor": 5
}
