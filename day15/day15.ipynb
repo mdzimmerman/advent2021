{
 "cells": [
  {
   "cell_type": "code",
   "execution_count": 12,
   "metadata": {},
   "outputs": [],
   "source": [
    "from collections import defaultdict,namedtuple\n",
    "\n",
    "import heapq\n",
    "import numpy as np"
   ]
  },
  {
   "cell_type": "code",
   "execution_count": 24,
   "metadata": {},
   "outputs": [
    {
     "name": "stdout",
     "output_type": "stream",
     "text": [
      "[Point(x=0, y=1), Point(x=1, y=0)]\n",
      "[Point(x=1, y=2), Point(x=2, y=3), Point(x=3, y=2), Point(x=2, y=1)]\n",
      "1163751742\n",
      "1381373672\n",
      "2136511328\n",
      "3694931569\n",
      "7463417111\n",
      "1319128137\n",
      "1359912421\n",
      "3125421639\n",
      "1293138521\n",
      "2311944581\n",
      "\n"
     ]
    }
   ],
   "source": [
    "Point = namedtuple(\"Point\", [\"x\", \"y\"])\n",
    "\n",
    "class Grid:\n",
    "    def __init__(self, grid):\n",
    "        self.grid = grid\n",
    "        self.h = self.grid.shape[0]\n",
    "        self.w = self.grid.shape[1]\n",
    "        self.start = Point(0, 0)\n",
    "        self.end   = Point(self.w-1, self.h-1)\n",
    "    \n",
    "    @classmethod\n",
    "    def from_file(cls, filename):\n",
    "        data = []\n",
    "        with open(filename, \"r\") as fh:\n",
    "            for line in fh:\n",
    "                data.append([int(c) for c in line.strip()])\n",
    "        return Grid(np.array(data, dtype=int))\n",
    "\n",
    "    def get(self, p):\n",
    "        return self.grid[p.y,p.x]\n",
    "    \n",
    "    def neighbors(self, p):\n",
    "        for dx, dy in [(-1,0), (0,1), (1,0), (0,-1)]:\n",
    "            pn = Point(p.x+dx, p.y+dy)\n",
    "            if pn.x >= 0 and pn.x < self.w and pn.y >= 0 and pn.y < self.h:\n",
    "                yield pn\n",
    "    \n",
    "    def display(self, path=[]):\n",
    "        out = \"\"\n",
    "        for j in range(self.h):\n",
    "            for i in range(self.w):\n",
    "                out += str(self.get(Point(i,j)))\n",
    "            out += \"\\n\"\n",
    "        return out\n",
    "    \n",
    "test = Grid.from_file(\"test.txt\")\n",
    "print(list(test.neighbors(Point(0,0))))\n",
    "print(list(test.neighbors(Point(2,2))))\n",
    "print(test.display())"
   ]
  },
  {
   "cell_type": "code",
   "execution_count": 20,
   "metadata": {},
   "outputs": [
    {
     "data": {
      "text/plain": [
       "(40,\n",
       " [Point(x=0, y=0),\n",
       "  Point(x=0, y=1),\n",
       "  Point(x=0, y=2),\n",
       "  Point(x=1, y=2),\n",
       "  Point(x=2, y=2),\n",
       "  Point(x=3, y=2),\n",
       "  Point(x=4, y=2),\n",
       "  Point(x=5, y=2),\n",
       "  Point(x=6, y=2),\n",
       "  Point(x=6, y=3),\n",
       "  Point(x=7, y=3),\n",
       "  Point(x=7, y=4),\n",
       "  Point(x=7, y=5),\n",
       "  Point(x=8, y=5),\n",
       "  Point(x=8, y=6),\n",
       "  Point(x=8, y=7),\n",
       "  Point(x=8, y=8),\n",
       "  Point(x=9, y=8),\n",
       "  Point(x=9, y=9)])"
      ]
     },
     "execution_count": 20,
     "metadata": {},
     "output_type": "execute_result"
    }
   ],
   "source": [
    "def dijkstra(grid, start):\n",
    "    visited = set()\n",
    "    prev = dict()\n",
    "    pq = []\n",
    "    costs = defaultdict(lambda: float('inf'))\n",
    "    costs[start] = 0\n",
    "    heapq.heappush(pq, (0, start))\n",
    "    \n",
    "    while pq:\n",
    "        curr_cost, curr_node = heapq.heappop(pq)\n",
    "        visited.add(curr_node)\n",
    "        \n",
    "        for next_node in grid.neighbors(curr_node):\n",
    "            if next_node in visited:\n",
    "                continue\n",
    "            \n",
    "            next_cost = costs[curr_node] + grid.get(next_node)\n",
    "            if next_cost < costs[next_node]:\n",
    "                prev[next_node] = curr_node\n",
    "                costs[next_node] = next_cost\n",
    "                heapq.heappush(pq, (next_cost, next_node))\n",
    "    \n",
    "    return prev, costs\n",
    "\n",
    "def get_shortest_path(grid, start, end):\n",
    "    prev, costs = dijkstra(grid, start)\n",
    "\n",
    "    path = []\n",
    "    curr = end\n",
    "    while curr in prev:\n",
    "        path.append(curr)\n",
    "        curr = prev[curr]\n",
    "    path.append(curr)\n",
    "    \n",
    "    #for n in reversed(path):\n",
    "    #    print(n)\n",
    "    \n",
    "    return costs[end], list(reversed(path))\n",
    "        \n",
    "get_shortest_path(test, Point(0,0), test.end)"
   ]
  },
  {
   "cell_type": "code",
   "execution_count": 23,
   "metadata": {},
   "outputs": [
    {
     "data": {
      "text/plain": [
       "581"
      ]
     },
     "execution_count": 23,
     "metadata": {},
     "output_type": "execute_result"
    }
   ],
   "source": [
    "inp = Grid.from_file(\"input.txt\")\n",
    "get_shortest_path(inp, inp.start, inp.end)[0]"
   ]
  },
  {
   "cell_type": "code",
   "execution_count": null,
   "metadata": {},
   "outputs": [],
   "source": []
  }
 ],
 "metadata": {
  "kernelspec": {
   "display_name": "Python 3 (ipykernel)",
   "language": "python",
   "name": "python3"
  },
  "language_info": {
   "codemirror_mode": {
    "name": "ipython",
    "version": 3
   },
   "file_extension": ".py",
   "mimetype": "text/x-python",
   "name": "python",
   "nbconvert_exporter": "python",
   "pygments_lexer": "ipython3",
   "version": "3.7.3"
  }
 },
 "nbformat": 4,
 "nbformat_minor": 2
}
