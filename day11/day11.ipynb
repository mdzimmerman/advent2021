{
 "cells": [
  {
   "cell_type": "code",
   "execution_count": 2,
   "metadata": {},
   "outputs": [],
   "source": [
    "from collections import namedtuple\n",
    "import numpy as np"
   ]
  },
  {
   "cell_type": "code",
   "execution_count": 6,
   "metadata": {},
   "outputs": [
    {
     "name": "stdout",
     "output_type": "stream",
     "text": [
      "5483143223\n",
      "2745854711\n",
      "5264556173\n",
      "6141336146\n",
      "6357385478\n",
      "4167524645\n",
      "2176841721\n",
      "6882881134\n",
      "4846848554\n",
      "5283751526\n",
      "-- step #1 --\n",
      "6594254334\n",
      "3856965822\n",
      "6375667284\n",
      "7252447257\n",
      "7468496589\n",
      "5278635756\n",
      "3287952832\n",
      "7993992245\n",
      "5957959665\n",
      "6394862637\n",
      "-- step #2 --\n",
      "8807476555\n",
      "5089087054\n",
      "8597889608\n",
      "8485769600\n",
      "8700908800\n",
      "6600088989\n",
      "6800005943\n",
      "0000007456\n",
      "9000000876\n",
      "8700006848\n"
     ]
    }
   ],
   "source": [
    "Point = namedtuple(\"Point\", [\"x\", \"y\"])\n",
    "\n",
    "class Grid:\n",
    "    def __init__(self, grid):\n",
    "        self.grid = grid\n",
    "        self.h = self.grid.shape[0]\n",
    "        self.w = self.grid.shape[1]\n",
    "        self.nflashes = np.count_nonzero(self.grid == 0)\n",
    "    \n",
    "    @classmethod\n",
    "    def from_file(cls, filename):\n",
    "        data = []\n",
    "        with open(filename, \"r\") as fh:\n",
    "            for line in fh:\n",
    "                data.append([int(c) for c in line.strip()])\n",
    "        return Grid(np.array(data, dtype=int))\n",
    "    \n",
    "    def get(self, p):\n",
    "        return self.grid[p.y,p.x]\n",
    "    \n",
    "    def neighbors(self, p):\n",
    "        for dx in [-1, 0, 1]:\n",
    "            for dy in [-1, 0, 1]:\n",
    "                if not (dx == 0 and dy == 0):\n",
    "                    nx = p.x + dx\n",
    "                    ny = p.y + dy\n",
    "                    if nx >= 0 and nx < self.w and ny >= 0 and ny < self.h:\n",
    "                        yield Point(nx, ny)\n",
    "    \n",
    "    def print_grid(self):\n",
    "        for j in range(self.h):\n",
    "            for i in range(self.w):\n",
    "                print(self.get(Point(i,j)), end=\"\")\n",
    "            print()\n",
    "    \n",
    "    def iterate_condition(self, cond):\n",
    "        for j, i in zip(*np.where(cond)):\n",
    "            yield Point(i,j)\n",
    "    \n",
    "    def step(self):\n",
    "        ngrid = self.grid + 1\n",
    "        flashed = set()\n",
    "        while True:\n",
    "            nflashed = 0\n",
    "            for p in self.iterate_condition(ngrid > 9):\n",
    "                if p not in flashed:\n",
    "                    for pn in self.neighbors(p):\n",
    "                        ngrid[pn.y,pn.x] += 1\n",
    "                    flashed.add(p)\n",
    "                    nflashed += 1\n",
    "            if nflashed == 0:\n",
    "                break\n",
    "        ngrid[ngrid > 9] = 0\n",
    "        return Grid(ngrid)\n",
    "        \n",
    "test = Grid.from_file(\"test.txt\")\n",
    "#print(test)\n",
    "test.print_grid()\n",
    "print(\"-- step #1 --\")\n",
    "test = test.step()\n",
    "test.print_grid()\n",
    "print(\"-- step #2 --\")\n",
    "test = test.step()\n",
    "test.print_grid()"
   ]
  },
  {
   "cell_type": "code",
   "execution_count": 8,
   "metadata": {},
   "outputs": [
    {
     "name": "stdout",
     "output_type": "stream",
     "text": [
      "0397666866\n",
      "0749766918\n",
      "0053976933\n",
      "0004297822\n",
      "0004229892\n",
      "0053222877\n",
      "0532222966\n",
      "9322228966\n",
      "7922286866\n",
      "6789998766\n"
     ]
    },
    {
     "data": {
      "text/plain": [
       "1656"
      ]
     },
     "execution_count": 8,
     "metadata": {},
     "output_type": "execute_result"
    }
   ],
   "source": [
    "def run(grid, n):\n",
    "    total = 0\n",
    "    for _ in range(n):\n",
    "        grid = grid.step()\n",
    "        total += grid.nflashes\n",
    "    grid.print_grid()\n",
    "    return total\n",
    "\n",
    "test = Grid.from_file(\"test.txt\")\n",
    "run(test, 100)"
   ]
  },
  {
   "cell_type": "code",
   "execution_count": 10,
   "metadata": {},
   "outputs": [
    {
     "name": "stdout",
     "output_type": "stream",
     "text": [
      "6791132344\n",
      "7934439900\n",
      "9322296690\n",
      "1533385580\n",
      "3466296690\n",
      "0000429900\n",
      "5000031290\n",
      "3000031140\n",
      "2400421130\n",
      "4556211127\n"
     ]
    },
    {
     "data": {
      "text/plain": [
       "1747"
      ]
     },
     "execution_count": 10,
     "metadata": {},
     "output_type": "execute_result"
    }
   ],
   "source": [
    "inp = Grid.from_file(\"input.txt\")\n",
    "run(inp, 100)"
   ]
  },
  {
   "cell_type": "code",
   "execution_count": 12,
   "metadata": {},
   "outputs": [],
   "source": [
    "def find_synch(grid):\n",
    "    i = 0\n",
    "    nflashes = grid.nflashes\n",
    "    while nflashes < 100:\n",
    "        grid = grid.step()\n",
    "        i += 1\n",
    "        nflashes = grid.nflashes\n",
    "    grid.print_grid()\n",
    "    return i\n",
    "\n",
    "test = Grid.from_file(\"test.txt\")\n",
    "find"
   ]
  },
  {
   "cell_type": "code",
   "execution_count": null,
   "metadata": {},
   "outputs": [],
   "source": []
  }
 ],
 "metadata": {
  "kernelspec": {
   "display_name": "Python 3 (ipykernel)",
   "language": "python",
   "name": "python3"
  },
  "language_info": {
   "codemirror_mode": {
    "name": "ipython",
    "version": 3
   },
   "file_extension": ".py",
   "mimetype": "text/x-python",
   "name": "python",
   "nbconvert_exporter": "python",
   "pygments_lexer": "ipython3",
   "version": "3.7.3"
  }
 },
 "nbformat": 4,
 "nbformat_minor": 5
}
