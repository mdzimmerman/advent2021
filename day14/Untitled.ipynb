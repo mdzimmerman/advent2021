{
 "cells": [
  {
   "cell_type": "code",
   "execution_count": 22,
   "id": "fitting-syntax",
   "metadata": {},
   "outputs": [],
   "source": [
    "from collections import defaultdict\n",
    "import sys\n",
    "\n",
    "if \"..\" not in sys.path: \n",
    "    sys.path.append(\"..\")\n",
    "\n",
    "import aoc"
   ]
  },
  {
   "cell_type": "code",
   "execution_count": 34,
   "id": "domestic-pilot",
   "metadata": {},
   "outputs": [
    {
     "name": "stdout",
     "output_type": "stream",
     "text": [
      "NNCB\n",
      "{'CH': 'B', 'HH': 'N', 'CB': 'H', 'NH': 'C', 'HB': 'C', 'HC': 'B', 'HN': 'C', 'NN': 'C', 'BH': 'H', 'NC': 'B', 'NB': 'B', 'BN': 'B', 'BB': 'N', 'BC': 'B', 'CC': 'N', 'CN': 'C'}\n",
      " 1     7\n",
      " 2    13\n",
      " 3    25\n",
      " 4    49\n",
      " 5    97\n",
      " 6   193\n",
      " 7   385\n",
      " 8   769\n",
      " 9  1537\n",
      "10  3073\n",
      "1588\n",
      "defaultdict(<class 'int'>, {'NN': 1, 'NC': 1, 'CB': 1})\n",
      "1 6 1\n",
      "2 12 5\n",
      "3 24 7\n",
      "4 48 18\n",
      "5 96 33\n",
      "6 192 82\n",
      "7 384 160\n",
      "8 768 366\n",
      "9 1536 727\n",
      "10 3072 1588\n",
      "1588\n"
     ]
    }
   ],
   "source": [
    "class Polymer:\n",
    "    def __init__(self, template, rules):\n",
    "        self.template = template\n",
    "        self.rules = rules\n",
    "        \n",
    "    def step(self, t):\n",
    "        out = t[0]\n",
    "        for i in range(len(t)-1):\n",
    "            pair = t[i:i+2]\n",
    "            out += self.rules[pair]\n",
    "            out += pair[1]\n",
    "        return out\n",
    "    \n",
    "    def run(self, n, debug=False):\n",
    "        t = self.template\n",
    "        for i in range(n):\n",
    "            t = self.step(t)\n",
    "            if debug:\n",
    "                print(\"{:2d} {:5d}\".format(i+1, len(t)))\n",
    "        return self.score(t)\n",
    "    \n",
    "    def run2(self, n, debug=False):\n",
    "        d = defaultdict(int)\n",
    "        for i in range(len(self.template)-1):\n",
    "            pair = self.template[i:i+2]\n",
    "            d[pair] += 1\n",
    "        if debug:\n",
    "            print(d)\n",
    "        for i in range(n):\n",
    "            dnext = defaultdict(int)\n",
    "            for p, v in d.items():\n",
    "                p1 = p[0] + self.rules[p]\n",
    "                p2 = self.rules[p] + p[1]\n",
    "                dnext[p1] += v\n",
    "                dnext[p2] += v\n",
    "            d = dnext\n",
    "            if debug: \n",
    "                print(\"{} {} {}\".format(i+1, sum(d.values()), self.score2(d)))\n",
    "        return self.score2(d)\n",
    "    \n",
    "    def score2(self, d):\n",
    "        atoms = defaultdict(int)\n",
    "        atoms[self.template[0]] += 1\n",
    "        atoms[self.template[-1]] += 1\n",
    "        for p, v in d.items():\n",
    "            atoms[p[0]] += v\n",
    "            atoms[p[1]] += v\n",
    "        amax = max(atoms.values())\n",
    "        amin = min(atoms.values())\n",
    "        return (amax-amin)//2\n",
    "    \n",
    "    @classmethod\n",
    "    def score(cls, t):\n",
    "        dist = dict()\n",
    "        for c in t:\n",
    "            if c in dist:\n",
    "                dist[c] += 1\n",
    "            else:\n",
    "                dist[c] = 1\n",
    "        return max(dist.values()) - min(dist.values())\n",
    "    \n",
    "    @classmethod\n",
    "    def from_file(cls, filename):\n",
    "        lines = aoc.readlines(filename)\n",
    "        template, rulelines = aoc.splitlist(lines, \"\")\n",
    "        \n",
    "        rules = dict()\n",
    "        for r in rulelines:\n",
    "            k, v = r.split(\" -> \")\n",
    "            rules[k] = v\n",
    "        return Polymer(template[0], rules)\n",
    "\n",
    "test = Polymer.from_file(\"test.txt\")\n",
    "print(test.template)\n",
    "print(test.rules)\n",
    "print(test.run(10, debug=True))\n",
    "print(test.run2(10, debug=True))"
   ]
  },
  {
   "cell_type": "code",
   "execution_count": 35,
   "id": "cellular-plane",
   "metadata": {},
   "outputs": [
    {
     "data": {
      "text/plain": [
       "2584"
      ]
     },
     "execution_count": 35,
     "metadata": {},
     "output_type": "execute_result"
    }
   ],
   "source": [
    "inp = Polymer.from_file(\"input.txt\")\n",
    "inp.run(10)"
   ]
  },
  {
   "cell_type": "code",
   "execution_count": 36,
   "id": "presidential-curve",
   "metadata": {},
   "outputs": [
    {
     "data": {
      "text/plain": [
       "3816397135460"
      ]
     },
     "execution_count": 36,
     "metadata": {},
     "output_type": "execute_result"
    }
   ],
   "source": [
    "inp.run2(40)"
   ]
  },
  {
   "cell_type": "code",
   "execution_count": null,
   "id": "efficient-religious",
   "metadata": {},
   "outputs": [],
   "source": []
  }
 ],
 "metadata": {
  "kernelspec": {
   "display_name": "Python 3",
   "language": "python",
   "name": "python3"
  },
  "language_info": {
   "codemirror_mode": {
    "name": "ipython",
    "version": 3
   },
   "file_extension": ".py",
   "mimetype": "text/x-python",
   "name": "python",
   "nbconvert_exporter": "python",
   "pygments_lexer": "ipython3",
   "version": "3.8.8"
  }
 },
 "nbformat": 4,
 "nbformat_minor": 5
}
