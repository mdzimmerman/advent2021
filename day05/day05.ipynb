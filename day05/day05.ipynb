{
 "cells": [
  {
   "cell_type": "code",
   "execution_count": 15,
   "id": "sacred-simon",
   "metadata": {},
   "outputs": [],
   "source": [
    "from collections import defaultdict,namedtuple\n",
    "import re"
   ]
  },
  {
   "cell_type": "code",
   "execution_count": 9,
   "id": "speaking-tucson",
   "metadata": {},
   "outputs": [
    {
     "name": "stdout",
     "output_type": "stream",
     "text": [
      "Line(Point(x=0, y=9) -> Point(x=5, y=9))\n",
      "Line(Point(x=8, y=0) -> Point(x=0, y=8))\n",
      "Line(Point(x=9, y=4) -> Point(x=3, y=4))\n",
      "Line(Point(x=2, y=2) -> Point(x=2, y=1))\n",
      "Line(Point(x=7, y=0) -> Point(x=7, y=4))\n",
      "Line(Point(x=6, y=4) -> Point(x=2, y=0))\n",
      "Line(Point(x=0, y=9) -> Point(x=2, y=9))\n",
      "Line(Point(x=3, y=4) -> Point(x=1, y=4))\n",
      "Line(Point(x=0, y=0) -> Point(x=8, y=8))\n",
      "Line(Point(x=5, y=5) -> Point(x=8, y=2))\n"
     ]
    }
   ],
   "source": [
    "Point = namedtuple('Point', ['x', 'y'])\n",
    "\n",
    "class Line:\n",
    "    patt = re.compile(r'(\\d+),(\\d+) -> (\\d+),(\\d+)')\n",
    "    \n",
    "    def __init__(self, p1, p2):\n",
    "        self.p1 = p1\n",
    "        self.p2 = p2\n",
    "        \n",
    "    def __repr__(self):\n",
    "        return \"Line({} -> {})\".format(self.p1, self.p2)\n",
    "    \n",
    "    @classmethod\n",
    "    def apply(self, line):\n",
    "        m = Line.patt.match(line)\n",
    "        if m:\n",
    "            p1 = Point(int(m.group(1)), int(m.group(2)))\n",
    "            p2 = Point(int(m.group(3)), int(m.group(4)))\n",
    "            return Line(p1, p2)\n",
    "        else:\n",
    "            return None\n",
    "        \n",
    "class Lines:\n",
    "    def __init__(self, filename):\n",
    "        self.lines = []\n",
    "        with open(filename, \"r\") as fh:\n",
    "            for x in fh:\n",
    "                l = Line.apply(x)\n",
    "                if l is not None:\n",
    "                    self.lines.append(l)\n",
    "                    \n",
    "\n",
    "test = Lines(\"test.txt\")\n",
    "for l in test.lines:\n",
    "    print(l)"
   ]
  },
  {
   "cell_type": "code",
   "execution_count": 27,
   "id": "negative-episode",
   "metadata": {},
   "outputs": [
    {
     "name": "stdout",
     "output_type": "stream",
     "text": [
      "Line(Point(x=0, y=9) -> Point(x=5, y=9))\n",
      "Point(x=0, y=9)\n",
      "Point(x=1, y=9)\n",
      "Point(x=2, y=9)\n",
      "Point(x=3, y=9)\n",
      "Point(x=4, y=9)\n",
      "Point(x=5, y=9)\n",
      "Line(Point(x=8, y=0) -> Point(x=0, y=8))\n",
      "Point(x=8, y=0)\n",
      "Point(x=7, y=1)\n",
      "Point(x=6, y=2)\n",
      "Point(x=5, y=3)\n",
      "Point(x=4, y=4)\n",
      "Point(x=3, y=5)\n",
      "Point(x=2, y=6)\n",
      "Point(x=1, y=7)\n",
      "Point(x=0, y=8)\n",
      "Line(Point(x=9, y=4) -> Point(x=3, y=4))\n",
      "Point(x=3, y=4)\n",
      "Point(x=4, y=4)\n",
      "Point(x=5, y=4)\n",
      "Point(x=6, y=4)\n",
      "Point(x=7, y=4)\n",
      "Point(x=8, y=4)\n",
      "Point(x=9, y=4)\n",
      "Line(Point(x=2, y=2) -> Point(x=2, y=1))\n",
      "Point(x=2, y=1)\n",
      "Point(x=2, y=2)\n",
      "Line(Point(x=7, y=0) -> Point(x=7, y=4))\n",
      "Point(x=7, y=0)\n",
      "Point(x=7, y=1)\n",
      "Point(x=7, y=2)\n",
      "Point(x=7, y=3)\n",
      "Point(x=7, y=4)\n",
      "Line(Point(x=6, y=4) -> Point(x=2, y=0))\n",
      "Point(x=6, y=4)\n",
      "Point(x=5, y=3)\n",
      "Point(x=4, y=2)\n",
      "Point(x=3, y=1)\n",
      "Point(x=2, y=0)\n",
      "Line(Point(x=0, y=9) -> Point(x=2, y=9))\n",
      "Point(x=0, y=9)\n",
      "Point(x=1, y=9)\n",
      "Point(x=2, y=9)\n",
      "Line(Point(x=3, y=4) -> Point(x=1, y=4))\n",
      "Point(x=1, y=4)\n",
      "Point(x=2, y=4)\n",
      "Point(x=3, y=4)\n",
      "Line(Point(x=0, y=0) -> Point(x=8, y=8))\n",
      "Point(x=0, y=0)\n",
      "Point(x=1, y=1)\n",
      "Point(x=2, y=2)\n",
      "Point(x=3, y=3)\n",
      "Point(x=4, y=4)\n",
      "Point(x=5, y=5)\n",
      "Point(x=6, y=6)\n",
      "Point(x=7, y=7)\n",
      "Point(x=8, y=8)\n",
      "Line(Point(x=5, y=5) -> Point(x=8, y=2))\n",
      "Point(x=5, y=5)\n",
      "Point(x=6, y=4)\n",
      "Point(x=7, y=3)\n",
      "Point(x=8, y=2)\n"
     ]
    },
    {
     "data": {
      "text/plain": [
       "12"
      ]
     },
     "execution_count": 27,
     "metadata": {},
     "output_type": "execute_result"
    }
   ],
   "source": [
    "def order(a, b):\n",
    "    if a > b:\n",
    "        return b, a\n",
    "    else:\n",
    "        return a, b\n",
    "\n",
    "def find_crosses(lines, debug=False):\n",
    "    elems = defaultdict(int)\n",
    "    for l in lines:\n",
    "        if debug:\n",
    "            print(l)\n",
    "        if l.p1.x == l.p2.x:\n",
    "            x = l.p1.x\n",
    "            y1, y2 = order(l.p1.y, l.p2.y)\n",
    "            for y in range(y1, y2+1):\n",
    "                p = Point(x, y)\n",
    "                if debug: print(p)\n",
    "                elems[p] += 1\n",
    "        elif l.p1.y == l.p2.y:\n",
    "            y = l.p1.y\n",
    "            x1, x2 = order(l.p1.x, l.p2.x)\n",
    "            for x in range(x1, x2+1):\n",
    "                p = Point(x, y)\n",
    "                if debug: print(p)\n",
    "                elems[p] += 1\n",
    "        else:\n",
    "            dx = 1\n",
    "            if l.p1.x > l.p2.x:\n",
    "                dx = -1\n",
    "            dy = 1\n",
    "            if l.p1.y > l.p2.y:\n",
    "                dy = -1\n",
    "            for x, y in zip(range(l.p1.x, l.p2.x+dx, dx), range(l.p1.y, l.p2.y+dy, dy)):\n",
    "                p = Point(x, y)\n",
    "                if debug: print(p)\n",
    "                elems[p] += 1\n",
    "    return len([x for x in elems.values() if x > 1])\n",
    "    #return elems\n",
    "\n",
    "find_crosses(test.lines, debug=True)"
   ]
  },
  {
   "cell_type": "code",
   "execution_count": 28,
   "id": "given-delight",
   "metadata": {
    "scrolled": false
   },
   "outputs": [
    {
     "data": {
      "text/plain": [
       "19081"
      ]
     },
     "execution_count": 28,
     "metadata": {},
     "output_type": "execute_result"
    }
   ],
   "source": [
    "inp = Lines(\"input.txt\")\n",
    "find_crosses(inp.lines)"
   ]
  },
  {
   "cell_type": "code",
   "execution_count": null,
   "id": "impaired-chart",
   "metadata": {},
   "outputs": [],
   "source": []
  }
 ],
 "metadata": {
  "kernelspec": {
   "display_name": "Python 3",
   "language": "python",
   "name": "python3"
  },
  "language_info": {
   "codemirror_mode": {
    "name": "ipython",
    "version": 3
   },
   "file_extension": ".py",
   "mimetype": "text/x-python",
   "name": "python",
   "nbconvert_exporter": "python",
   "pygments_lexer": "ipython3",
   "version": "3.8.8"
  }
 },
 "nbformat": 4,
 "nbformat_minor": 5
}
