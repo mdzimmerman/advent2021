{
 "cells": [
  {
   "cell_type": "code",
   "execution_count": 46,
   "id": "least-overhead",
   "metadata": {},
   "outputs": [],
   "source": [
    "from collections import namedtuple, deque\n",
    "import numpy as np"
   ]
  },
  {
   "cell_type": "code",
   "execution_count": 33,
   "id": "asian-barcelona",
   "metadata": {},
   "outputs": [
    {
     "name": "stdout",
     "output_type": "stream",
     "text": [
      "2199943210\n",
      "3987894921\n",
      "9856789892\n",
      "8767896789\n",
      "9899965678\n",
      "5\n",
      "10\n",
      "[Point(x=1, y=0), Point(x=0, y=1)]\n",
      "[Point(x=1, y=0), Point(x=2, y=1), Point(x=1, y=2), Point(x=0, y=1)]\n",
      "[Point(x=4, y=3), Point(x=5, y=4), Point(x=3, y=4)]\n"
     ]
    }
   ],
   "source": [
    "Point = namedtuple(\"Point\", [\"x\", \"y\"])\n",
    "\n",
    "class HeightMap:\n",
    "    def __init__(self, filename):\n",
    "        self.filename = filename\n",
    "        self.grid = self._build_grid(filename)\n",
    "        self.height = self.grid.shape[0]\n",
    "        self.width  = self.grid.shape[1]\n",
    "\n",
    "    def _build_grid(self, filename):\n",
    "        data = []\n",
    "        with open(filename, \"r\") as fh:\n",
    "            for l in fh:\n",
    "                data.append([int(c) for c in l.strip()])\n",
    "        return np.array(data, dtype=int)\n",
    "\n",
    "    def get(self, p):\n",
    "        return self.grid[p.y, p.x]\n",
    "    \n",
    "    def neighbors(self, p):\n",
    "        out = []\n",
    "        for np in [Point(p.x,p.y-1), Point(p.x+1,p.y), Point(p.x,p.y+1), Point(p.x-1,p.y)]:\n",
    "            if np.x >= 0 and np.x < self.width and np.y >= 0 and np.y < self.height:\n",
    "                yield np\n",
    "\n",
    "    def print_grid(self):\n",
    "        for j in range(self.height):\n",
    "            for i in range(self.width):\n",
    "                p = Point(i,j)\n",
    "                print(self.get(p), end=\"\")\n",
    "            print()\n",
    "                \n",
    "test = HeightMap(\"test.txt\")\n",
    "test.print_grid()\n",
    "print(test.height)\n",
    "print(test.width)\n",
    "print(list(test.neighbors(Point(0, 0))))\n",
    "print(list(test.neighbors(Point(1, 1))))\n",
    "print(list(test.neighbors(Point(4, 4))))"
   ]
  },
  {
   "cell_type": "code",
   "execution_count": 42,
   "id": "determined-hobby",
   "metadata": {},
   "outputs": [
    {
     "name": "stdout",
     "output_type": "stream",
     "text": [
      "[Point(x=1, y=0), Point(x=9, y=0), Point(x=2, y=2), Point(x=6, y=4)]\n"
     ]
    },
    {
     "data": {
      "text/plain": [
       "([Point(x=1, y=0), Point(x=9, y=0), Point(x=2, y=2), Point(x=6, y=4)], 15)"
      ]
     },
     "execution_count": 42,
     "metadata": {},
     "output_type": "execute_result"
    }
   ],
   "source": [
    "def calc_low_points(hm, debug=False):\n",
    "    mins = []\n",
    "    risk = 0\n",
    "    for j in range(hm.height):\n",
    "        for i in range(hm.width):\n",
    "            p = Point(i,j)\n",
    "            is_min = True\n",
    "            for np in hm.neighbors(p):\n",
    "                if hm.get(np) <= hm.get(p):\n",
    "                    is_min = False\n",
    "            if is_min:\n",
    "                mins.append(p)\n",
    "                risk += hm.get(p) + 1\n",
    "    if debug: print(mins)\n",
    "    return mins, risk\n",
    "\n",
    "calc_low_points(test)"
   ]
  },
  {
   "cell_type": "code",
   "execution_count": 44,
   "id": "internal-kingdom",
   "metadata": {},
   "outputs": [
    {
     "data": {
      "text/plain": [
       "532"
      ]
     },
     "execution_count": 44,
     "metadata": {},
     "output_type": "execute_result"
    }
   ],
   "source": [
    "inp = HeightMap(\"input.txt\")\n",
    "calc_low_points(inp)[1]"
   ]
  },
  {
   "cell_type": "code",
   "execution_count": 45,
   "id": "scientific-installation",
   "metadata": {},
   "outputs": [
    {
     "name": "stdout",
     "output_type": "stream",
     "text": [
      "2#9994321#\n",
      "3987894921\n",
      "98#6789892\n",
      "8767896789\n",
      "989996#678\n"
     ]
    }
   ],
   "source": [
    "def print_points(m, pts):\n",
    "    for j in range(m.height):\n",
    "        for i in range(m.width):\n",
    "            p = Point(i,j)\n",
    "            if p in pts:\n",
    "                print(\"#\", end=\"\")\n",
    "            else:\n",
    "                print(m.get(p), end=\"\")\n",
    "        print()\n",
    "        \n",
    "print_points(test, calc_low_points(test)[0])"
   ]
  },
  {
   "cell_type": "code",
   "execution_count": 61,
   "id": "joined-sullivan",
   "metadata": {},
   "outputs": [
    {
     "name": "stdout",
     "output_type": "stream",
     "text": [
      "Point(x=1, y=0) 3\n",
      "##99943210\n",
      "#987894921\n",
      "9856789892\n",
      "8767896789\n",
      "9899965678\n",
      "Point(x=9, y=0) 9\n",
      "21999#####\n",
      "398789#9##\n",
      "985678989#\n",
      "8767896789\n",
      "9899965678\n",
      "Point(x=2, y=2) 14\n",
      "2199943210\n",
      "39###94921\n",
      "9#####9892\n",
      "#####96789\n",
      "9#99965678\n",
      "Point(x=6, y=4) 9\n",
      "2199943210\n",
      "3987894921\n",
      "9856789#92\n",
      "876789###9\n",
      "98999#####\n"
     ]
    }
   ],
   "source": [
    "def find_basin(m, pmin):\n",
    "    \"\"\"Use BFS from the minimum point to find all points in the basin.\"\"\"\n",
    "    q = deque()\n",
    "    q.append(pmin)\n",
    "    basin = set()\n",
    "    while q:\n",
    "        p = q.popleft()\n",
    "        pv = m.get(p)\n",
    "        basin.add(p)\n",
    "        #print(p, pv)\n",
    "        for np in m.neighbors(p):\n",
    "            npv = m.get(np)\n",
    "            #print(np, npv)\n",
    "            if np not in basin and npv >= pv and npv != 9:\n",
    "                q.append(np)\n",
    "    return basin\n",
    "\n",
    "for pmin in calc_low_points(test)[0]:\n",
    "    basin = find_basin(test, pmin)\n",
    "    print(\"{} {}\".format(pmin, len(basin)))\n",
    "    print_points(test, basin)"
   ]
  },
  {
   "cell_type": "code",
   "execution_count": 67,
   "id": "hourly-brass",
   "metadata": {},
   "outputs": [
    {
     "name": "stdout",
     "output_type": "stream",
     "text": [
      "[14, 9, 9]\n"
     ]
    },
    {
     "data": {
      "text/plain": [
       "1134"
      ]
     },
     "execution_count": 67,
     "metadata": {},
     "output_type": "execute_result"
    }
   ],
   "source": [
    "def find_biggest_basins(m):\n",
    "    bsizes = []\n",
    "    for pmin in calc_low_points(m)[0]:\n",
    "        basin = find_basin(m, pmin)\n",
    "        bsizes.append(len(basin))\n",
    "    largest = sorted(bsizes, reverse=True)[0:3]\n",
    "    print(largest)\n",
    "    return largest[0] * largest[1] * largest[2]\n",
    "\n",
    "find_biggest_basins(test)"
   ]
  },
  {
   "cell_type": "code",
   "execution_count": 68,
   "id": "seasonal-dispatch",
   "metadata": {},
   "outputs": [
    {
     "name": "stdout",
     "output_type": "stream",
     "text": [
      "[110, 102, 99]\n"
     ]
    },
    {
     "data": {
      "text/plain": [
       "1110780"
      ]
     },
     "execution_count": 68,
     "metadata": {},
     "output_type": "execute_result"
    }
   ],
   "source": [
    "find_biggest_basins(inp)"
   ]
  },
  {
   "cell_type": "code",
   "execution_count": null,
   "id": "electoral-wages",
   "metadata": {},
   "outputs": [],
   "source": []
  }
 ],
 "metadata": {
  "kernelspec": {
   "display_name": "Python 3",
   "language": "python",
   "name": "python3"
  },
  "language_info": {
   "codemirror_mode": {
    "name": "ipython",
    "version": 3
   },
   "file_extension": ".py",
   "mimetype": "text/x-python",
   "name": "python",
   "nbconvert_exporter": "python",
   "pygments_lexer": "ipython3",
   "version": "3.8.8"
  }
 },
 "nbformat": 4,
 "nbformat_minor": 5
}
