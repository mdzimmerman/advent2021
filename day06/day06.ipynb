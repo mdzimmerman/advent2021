{
 "cells": [
  {
   "cell_type": "code",
   "execution_count": 31,
   "id": "global-chosen",
   "metadata": {
    "scrolled": false
   },
   "outputs": [
    {
     "name": "stdout",
     "output_type": "stream",
     "text": [
      "  0     5 Lanternfish(defaultdict(<class 'int'>, {3: 2, 4: 1, 1: 1, 2: 1}))\n",
      "  1     5 Lanternfish(defaultdict(<class 'int'>, {2: 2, 3: 1, 0: 1, 1: 1}))\n",
      "  2     6 Lanternfish(defaultdict(<class 'int'>, {1: 2, 2: 1, 6: 1, 8: 1, 0: 1}))\n",
      "  3     7 Lanternfish(defaultdict(<class 'int'>, {0: 2, 1: 1, 5: 1, 7: 1, 6: 1, 8: 1}))\n",
      "  4     9 Lanternfish(defaultdict(<class 'int'>, {6: 3, 8: 2, 0: 1, 4: 1, 5: 1, 7: 1}))\n",
      "  5    10 Lanternfish(defaultdict(<class 'int'>, {5: 3, 7: 2, 6: 2, 8: 1, 3: 1, 4: 1}))\n",
      "  6    10 Lanternfish(defaultdict(<class 'int'>, {4: 3, 6: 2, 5: 2, 7: 1, 2: 1, 3: 1}))\n",
      "  7    10 Lanternfish(defaultdict(<class 'int'>, {3: 3, 5: 2, 4: 2, 6: 1, 1: 1, 2: 1}))\n",
      "  8    10 Lanternfish(defaultdict(<class 'int'>, {2: 3, 4: 2, 3: 2, 5: 1, 0: 1, 1: 1}))\n",
      "  9    11 Lanternfish(defaultdict(<class 'int'>, {1: 3, 3: 2, 2: 2, 4: 1, 6: 1, 8: 1, 0: 1}))\n",
      " 10    12 Lanternfish(defaultdict(<class 'int'>, {0: 3, 2: 2, 1: 2, 3: 1, 5: 1, 7: 1, 6: 1, 8: 1}))\n",
      " 11    15 Lanternfish(defaultdict(<class 'int'>, {6: 4, 8: 3, 1: 2, 0: 2, 2: 1, 4: 1, 5: 1, 7: 1}))\n",
      " 12    17 Lanternfish(defaultdict(<class 'int'>, {5: 4, 7: 3, 0: 2, 6: 3, 8: 2, 1: 1, 3: 1, 4: 1}))\n",
      " 13    19 Lanternfish(defaultdict(<class 'int'>, {4: 4, 6: 5, 8: 2, 5: 3, 7: 2, 0: 1, 2: 1, 3: 1}))\n",
      " 14    20 Lanternfish(defaultdict(<class 'int'>, {3: 4, 5: 5, 7: 2, 4: 3, 6: 3, 8: 1, 1: 1, 2: 1}))\n",
      " 15    20 Lanternfish(defaultdict(<class 'int'>, {2: 4, 4: 5, 6: 2, 3: 3, 5: 3, 7: 1, 0: 1, 1: 1}))\n",
      " 16    21 Lanternfish(defaultdict(<class 'int'>, {1: 4, 3: 5, 5: 2, 2: 3, 4: 3, 6: 2, 8: 1, 0: 1}))\n",
      " 17    22 Lanternfish(defaultdict(<class 'int'>, {0: 4, 2: 5, 4: 2, 1: 3, 3: 3, 5: 2, 7: 1, 6: 1, 8: 1}))\n",
      " 18    26 Lanternfish(defaultdict(<class 'int'>, {6: 5, 8: 4, 1: 5, 3: 2, 0: 3, 2: 3, 4: 2, 5: 1, 7: 1}))\n"
     ]
    }
   ],
   "source": [
    "from collections import defaultdict\n",
    "\n",
    "class Lanternfish:\n",
    "    def __init__(self, dist):\n",
    "        #self.elems = elems\n",
    "        self.dist = dist    \n",
    "        \n",
    "    def __repr__(self):\n",
    "        #return \"Lanternfish({})\".format(\",\".join([str(x) for x in self.elems]))\n",
    "        return \"Lanternfish({})\".format(self.dist)\n",
    "    \n",
    "    def nextold(self):\n",
    "        curr = []\n",
    "        new  = []\n",
    "        for e in self.elems:\n",
    "            if e == 0:\n",
    "                curr.append(6)\n",
    "                new.append(8)\n",
    "            else:\n",
    "                curr.append(e-1)\n",
    "        return Lanternfish(curr + new)\n",
    "    \n",
    "    def next(self):\n",
    "        new = defaultdict(int)\n",
    "        for k, v in self.dist.items():\n",
    "            if k == 0:\n",
    "                new[6] += v\n",
    "                new[8] += v\n",
    "            else:\n",
    "                new[k-1] += v\n",
    "        return Lanternfish(new)\n",
    "\n",
    "    def count(self):\n",
    "        return sum(self.dist.values())\n",
    "    \n",
    "    @classmethod\n",
    "    def parse(self, line):\n",
    "        #return Lanternfish([int(x) for x in line.split(',')])\n",
    "        out = defaultdict(int)\n",
    "        for x in line.split(','):\n",
    "            out[int(x)] += 1\n",
    "        return Lanternfish(out)\n",
    "    \n",
    "test = Lanternfish.parse(\"3,4,3,1,2\")\n",
    "print(\"{0:3d} {1:5d} {2}\".format(0, test.count(), test))\n",
    "for n in range(1, 19):\n",
    "    test = test.next()\n",
    "    print(\"{0:3d} {1:5d} {2}\".format(n, test.count(), test))"
   ]
  },
  {
   "cell_type": "code",
   "execution_count": 32,
   "id": "false-harmony",
   "metadata": {},
   "outputs": [],
   "source": [
    "def apply(l, n):\n",
    "    for _ in range(n):\n",
    "        l=l.next()\n",
    "    return l.count()"
   ]
  },
  {
   "cell_type": "code",
   "execution_count": 35,
   "id": "conditional-reunion",
   "metadata": {},
   "outputs": [
    {
     "data": {
      "text/plain": [
       "26984457539"
      ]
     },
     "execution_count": 35,
     "metadata": {},
     "output_type": "execute_result"
    }
   ],
   "source": [
    "test = Lanternfish.parse(\"3,4,3,1,2\")\n",
    "apply(test, 256)"
   ]
  },
  {
   "cell_type": "code",
   "execution_count": 36,
   "id": "impressive-investigation",
   "metadata": {},
   "outputs": [
    {
     "data": {
      "text/plain": [
       "1589590444365"
      ]
     },
     "execution_count": 36,
     "metadata": {},
     "output_type": "execute_result"
    }
   ],
   "source": [
    "inp = Lanternfish.parse(\"1,4,2,4,5,3,5,2,2,5,2,1,2,4,5,2,3,5,4,3,3,1,2,3,2,1,4,4,2,1,1,4,1,4,4,4,1,4,2,4,3,3,3,3,1,1,5,4,2,5,2,4,2,2,3,1,2,5,2,4,1,5,3,5,1,4,5,3,1,4,5,2,4,5,3,1,2,5,1,2,2,1,5,5,1,1,1,4,2,5,4,3,3,1,3,4,1,1,2,2,2,5,4,4,3,2,1,1,1,1,2,5,1,3,2,1,4,4,2,1,4,5,2,5,5,3,3,1,3,2,2,3,4,1,3,1,5,4,2,5,2,4,1,5,1,4,5,1,2,4,4,1,4,1,4,4,2,2,5,4,1,3,1,3,3,1,5,1,5,5,5,1,3,1,2,1,4,5,4,4,1,3,3,1,4,1,2,1,3,2,1,5,5,3,3,1,3,5,1,5,3,5,3,1,1,1,1,4,4,3,5,5,1,1,2,2,5,5,3,2,5,2,3,4,4,1,1,2,2,4,3,5,5,1,1,5,4,3,1,3,1,2,4,4,4,4,1,4,3,4,1,3,5,5,5,1,3,5,4,3,1,3,5,4,4,3,4,2,1,1,3,1,1,2,4,1,4,1,1,1,5,5,1,3,4,1,1,5,4,4,2,2,1,3,4,4,2,2,2,3\")\n",
    "apply(inp, 256)"
   ]
  },
  {
   "cell_type": "code",
   "execution_count": null,
   "id": "continental-reynolds",
   "metadata": {},
   "outputs": [],
   "source": []
  }
 ],
 "metadata": {
  "kernelspec": {
   "display_name": "Python 3",
   "language": "python",
   "name": "python3"
  },
  "language_info": {
   "codemirror_mode": {
    "name": "ipython",
    "version": 3
   },
   "file_extension": ".py",
   "mimetype": "text/x-python",
   "name": "python",
   "nbconvert_exporter": "python",
   "pygments_lexer": "ipython3",
   "version": "3.8.8"
  }
 },
 "nbformat": 4,
 "nbformat_minor": 5
}
