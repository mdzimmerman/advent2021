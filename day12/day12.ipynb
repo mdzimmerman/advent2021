{
 "cells": [
  {
   "cell_type": "code",
   "execution_count": 7,
   "metadata": {},
   "outputs": [],
   "source": [
    "from collections import deque,namedtuple\n",
    "\n",
    "import matplotlib.pyplot as plt\n",
    "import networkx as nx"
   ]
  },
  {
   "cell_type": "code",
   "execution_count": 21,
   "metadata": {},
   "outputs": [
    {
     "name": "stdout",
     "output_type": "stream",
     "text": [
      "['start', 'A', 'b', 'c', 'd', 'end']\n",
      "['A', 'b']\n"
     ]
    },
    {
     "data": {
      "text/plain": [
       "<networkx.classes.graph.Graph at 0x7f37d219a6a0>"
      ]
     },
     "execution_count": 21,
     "metadata": {},
     "output_type": "execute_result"
    }
   ],
   "source": [
    "def read_graph(filename, debug=False):\n",
    "    g = nx.Graph()\n",
    "    with open(filename, \"r\") as fh:\n",
    "        for l in fh:\n",
    "            a, b = l.strip().split(\"-\")\n",
    "            if debug: print(\"{}-{}\".format(a,b))\n",
    "            g.add_edge(a, b)\n",
    "    return g\n",
    "            \n",
    "test1 = read_graph(\"test1.txt\")\n",
    "print(test1.nodes)\n",
    "print([n for n in test1.neighbors(\"start\")])\n",
    "test1"
   ]
  },
  {
   "cell_type": "code",
   "execution_count": 12,
   "metadata": {},
   "outputs": [
    {
     "data": {
      "image/png": "[encoded data removed]",
      "text/plain": [
       "<Figure size 432x288 with 1 Axes>"
      ]
     },
     "metadata": {},
     "output_type": "display_data"
    }
   ],
   "source": [
    "nx.draw(test1, with_labels=True)"
   ]
  },
  {
   "cell_type": "code",
   "execution_count": 31,
   "metadata": {},
   "outputs": [
    {
     "name": "stdout",
     "output_type": "stream",
     "text": [
      "start,A,b,A,c,A,end\n",
      "start,A,b,A,end\n",
      "start,A,b,end\n",
      "start,A,c,A,b,A,end\n",
      "start,A,c,A,b,end\n",
      "start,A,c,A,end\n",
      "start,A,end\n",
      "start,b,A,c,A,end\n",
      "start,b,A,end\n",
      "start,b,end\n"
     ]
    },
    {
     "data": {
      "text/plain": [
       "10"
      ]
     },
     "execution_count": 31,
     "metadata": {},
     "output_type": "execute_result"
    }
   ],
   "source": [
    "def get_all_paths(g, start=\"start\", end=\"end\", debug=False):\n",
    "    queue = deque()\n",
    "    queue.append([start])\n",
    "    #visited = set(start)\n",
    "    paths = []\n",
    "    while queue:\n",
    "        curr = queue.popleft()\n",
    "        if debug: print(curr)\n",
    "        if curr[-1] == end:\n",
    "            paths.append(curr)\n",
    "        else:\n",
    "            for n in g.neighbors(curr[-1]):\n",
    "                if n.isupper() or n not in curr:\n",
    "                    queue.append(curr + [n])\n",
    "    return sorted([\",\".join(p) for p in paths])\n",
    "        \n",
    "out1 = get_all_paths(test1)\n",
    "for o in out1:\n",
    "    print(o)\n",
    "len(out1)"
   ]
  },
  {
   "cell_type": "code",
   "execution_count": 33,
   "metadata": {},
   "outputs": [
    {
     "name": "stdout",
     "output_type": "stream",
     "text": [
      "start,HN,dc,HN,end\n",
      "start,HN,dc,HN,kj,HN,end\n",
      "start,HN,dc,end\n",
      "start,HN,dc,kj,HN,end\n",
      "start,HN,end\n",
      "start,HN,kj,HN,dc,HN,end\n",
      "start,HN,kj,HN,dc,end\n",
      "start,HN,kj,HN,end\n",
      "start,HN,kj,dc,HN,end\n",
      "start,HN,kj,dc,end\n",
      "start,dc,HN,end\n",
      "start,dc,HN,kj,HN,end\n",
      "start,dc,end\n",
      "start,dc,kj,HN,end\n",
      "start,kj,HN,dc,HN,end\n",
      "start,kj,HN,dc,end\n",
      "start,kj,HN,end\n",
      "start,kj,dc,HN,end\n",
      "start,kj,dc,end\n"
     ]
    },
    {
     "data": {
      "text/plain": [
       "19"
      ]
     },
     "execution_count": 33,
     "metadata": {},
     "output_type": "execute_result"
    }
   ],
   "source": [
    "test2 = read_graph(\"test2.txt\")\n",
    "out2 = get_all_paths(test2)\n",
    "for o in out2:\n",
    "    print(o)\n",
    "len(out2)"
   ]
  },
  {
   "cell_type": "code",
   "execution_count": 29,
   "metadata": {},
   "outputs": [
    {
     "data": {
      "text/plain": [
       "226"
      ]
     },
     "execution_count": 29,
     "metadata": {},
     "output_type": "execute_result"
    }
   ],
   "source": [
    "test3 = read_graph(\"test3.txt\")\n",
    "len(get_all_paths(test3))"
   ]
  },
  {
   "cell_type": "code",
   "execution_count": 30,
   "metadata": {},
   "outputs": [
    {
     "data": {
      "text/plain": [
       "3000"
      ]
     },
     "execution_count": 30,
     "metadata": {},
     "output_type": "execute_result"
    }
   ],
   "source": [
    "inp = read_graph(\"input.txt\")\n",
    "len(get_all_paths(inp))"
   ]
  },
  {
   "cell_type": "code",
   "execution_count": null,
   "metadata": {},
   "outputs": [],
   "source": []
  }
 ],
 "metadata": {
  "kernelspec": {
   "display_name": "Python 3 (ipykernel)",
   "language": "python",
   "name": "python3"
  },
  "language_info": {
   "codemirror_mode": {
    "name": "ipython",
    "version": 3
   },
   "file_extension": ".py",
   "mimetype": "text/x-python",
   "name": "python",
   "nbconvert_exporter": "python",
   "pygments_lexer": "ipython3",
   "version": "3.7.3"
  }
 },
 "nbformat": 4,
 "nbformat_minor": 2
}
