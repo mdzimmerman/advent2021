{
 "cells": [
  {
   "cell_type": "code",
   "execution_count": 1,
   "metadata": {},
   "outputs": [],
   "source": [
    "import numpy as np"
   ]
  },
  {
   "cell_type": "code",
   "execution_count": 2,
   "metadata": {},
   "outputs": [
    {
     "data": {
      "text/plain": [
       "['7,4,9,5,11,17,23,2,0,14,21,24,10,16,13,6,15,25,12,22,18,20,8,19,3,26,1',\n",
       " '',\n",
       " '22 13 17 11  0',\n",
       " '8  2 23  4 24',\n",
       " '21  9 14 16  7',\n",
       " '6 10  3 18  5',\n",
       " '1 12 20 15 19',\n",
       " '',\n",
       " '3 15  0  2 22',\n",
       " '9 18 13 17  5',\n",
       " '19  8  7 25 23',\n",
       " '20 11 10 24  4',\n",
       " '14 21 16 12  6',\n",
       " '',\n",
       " '14 21 17 24  4',\n",
       " '10 16 15  9 19',\n",
       " '18  8 23 26 20',\n",
       " '22 11 13  6  5',\n",
       " '2  0 12  3  7']"
      ]
     },
     "execution_count": 2,
     "metadata": {},
     "output_type": "execute_result"
    }
   ],
   "source": [
    "def readlines(filename):\n",
    "    d = []\n",
    "    with open(filename, \"r\") as fh:\n",
    "        for l in fh:\n",
    "            d.append(l.strip())\n",
    "    return d\n",
    "            \n",
    "test = readlines(\"test.txt\")\n",
    "test"
   ]
  },
  {
   "cell_type": "code",
   "execution_count": 3,
   "metadata": {},
   "outputs": [
    {
     "data": {
      "text/plain": [
       "[['7,4,9,5,11,17,23,2,0,14,21,24,10,16,13,6,15,25,12,22,18,20,8,19,3,26,1'],\n",
       " ['22 13 17 11  0',\n",
       "  '8  2 23  4 24',\n",
       "  '21  9 14 16  7',\n",
       "  '6 10  3 18  5',\n",
       "  '1 12 20 15 19'],\n",
       " ['3 15  0  2 22',\n",
       "  '9 18 13 17  5',\n",
       "  '19  8  7 25 23',\n",
       "  '20 11 10 24  4',\n",
       "  '14 21 16 12  6'],\n",
       " ['14 21 17 24  4',\n",
       "  '10 16 15  9 19',\n",
       "  '18  8 23 26 20',\n",
       "  '22 11 13  6  5',\n",
       "  '2  0 12  3  7']]"
      ]
     },
     "execution_count": 3,
     "metadata": {},
     "output_type": "execute_result"
    }
   ],
   "source": [
    "def splitlist(xs, sep):\n",
    "    out = [[]]\n",
    "    for x in xs:\n",
    "        if x == sep:\n",
    "            out.append([])\n",
    "        else:\n",
    "            out[-1].append(x)\n",
    "    return out\n",
    "\n",
    "splitlist(test, \"\")"
   ]
  },
  {
   "cell_type": "code",
   "execution_count": 4,
   "metadata": {},
   "outputs": [
    {
     "name": "stdout",
     "output_type": "stream",
     "text": [
      "[[22 13 17 11  0]\n",
      " [ 8  2 23  4 24]\n",
      " [21  9 14 16  7]\n",
      " [ 6 10  3 18  5]\n",
      " [ 1 12 20 15 19]]\n",
      "8\n",
      "13\n",
      "[ 8  2 23  4 24]\n",
      "[13  2  9 10 12]\n",
      "(5, 5)\n"
     ]
    }
   ],
   "source": [
    "def readmatrix(rows):\n",
    "    out = []\n",
    "    for row in rows:\n",
    "        out.append([int(x) for x in row.split()])\n",
    "    return np.array(out)\n",
    "\n",
    "m1 = readmatrix(splitlist(test, \"\")[1])\n",
    "print(m1)\n",
    "print(m1[1,0])\n",
    "print(m1[0,1])\n",
    "print(m1[1,:])\n",
    "print(m1[:,1])\n",
    "print(m1.shape)"
   ]
  },
  {
   "cell_type": "code",
   "execution_count": 64,
   "metadata": {},
   "outputs": [
    {
     "ename": "TypeError",
     "evalue": "'BingoGame' object is not iterable",
     "output_type": "error",
     "traceback": [
      "\u001b[0;31m---------------------------------------------------------------------------\u001b[0m",
      "\u001b[0;31mTypeError\u001b[0m                                 Traceback (most recent call last)",
      "\u001b[0;32m<ipython-input-64-d2aa54d1866f>\u001b[0m in \u001b[0;36m<module>\u001b[0;34m\u001b[0m\n\u001b[1;32m     23\u001b[0m         \u001b[0;32mreturn\u001b[0m \u001b[0mself\u001b[0m\u001b[0;34m.\u001b[0m\u001b[0mmarks\u001b[0m \u001b[0;34m*\u001b[0m \u001b[0mself\u001b[0m\u001b[0;34m.\u001b[0m\u001b[0mboard\u001b[0m\u001b[0;34m\u001b[0m\u001b[0;34m\u001b[0m\u001b[0m\n\u001b[1;32m     24\u001b[0m \u001b[0;34m\u001b[0m\u001b[0m\n\u001b[0;32m---> 25\u001b[0;31m \u001b[0mm1\u001b[0m \u001b[0;34m=\u001b[0m \u001b[0mBoard\u001b[0m\u001b[0;34m(\u001b[0m\u001b[0msplitlist\u001b[0m\u001b[0;34m(\u001b[0m\u001b[0mtest\u001b[0m\u001b[0;34m,\u001b[0m \u001b[0;34m\"\"\u001b[0m\u001b[0;34m)\u001b[0m\u001b[0;34m[\u001b[0m\u001b[0;36m1\u001b[0m\u001b[0;34m]\u001b[0m\u001b[0;34m)\u001b[0m\u001b[0;34m\u001b[0m\u001b[0;34m\u001b[0m\u001b[0m\n\u001b[0m\u001b[1;32m     26\u001b[0m \u001b[0mprint\u001b[0m\u001b[0;34m(\u001b[0m\u001b[0mm1\u001b[0m\u001b[0;34m.\u001b[0m\u001b[0mboard\u001b[0m\u001b[0;34m)\u001b[0m\u001b[0;34m\u001b[0m\u001b[0;34m\u001b[0m\u001b[0m\n\u001b[1;32m     27\u001b[0m \u001b[0mprint\u001b[0m\u001b[0;34m(\u001b[0m\u001b[0mm1\u001b[0m\u001b[0;34m.\u001b[0m\u001b[0mmarks\u001b[0m\u001b[0;34m)\u001b[0m\u001b[0;34m\u001b[0m\u001b[0;34m\u001b[0m\u001b[0m\n",
      "\u001b[0;32m<ipython-input-3-91535a11ab15>\u001b[0m in \u001b[0;36msplitlist\u001b[0;34m(xs, sep)\u001b[0m\n\u001b[1;32m      1\u001b[0m \u001b[0;32mdef\u001b[0m \u001b[0msplitlist\u001b[0m\u001b[0;34m(\u001b[0m\u001b[0mxs\u001b[0m\u001b[0;34m,\u001b[0m \u001b[0msep\u001b[0m\u001b[0;34m)\u001b[0m\u001b[0;34m:\u001b[0m\u001b[0;34m\u001b[0m\u001b[0;34m\u001b[0m\u001b[0m\n\u001b[1;32m      2\u001b[0m     \u001b[0mout\u001b[0m \u001b[0;34m=\u001b[0m \u001b[0;34m[\u001b[0m\u001b[0;34m[\u001b[0m\u001b[0;34m]\u001b[0m\u001b[0;34m]\u001b[0m\u001b[0;34m\u001b[0m\u001b[0;34m\u001b[0m\u001b[0m\n\u001b[0;32m----> 3\u001b[0;31m     \u001b[0;32mfor\u001b[0m \u001b[0mx\u001b[0m \u001b[0;32min\u001b[0m \u001b[0mxs\u001b[0m\u001b[0;34m:\u001b[0m\u001b[0;34m\u001b[0m\u001b[0;34m\u001b[0m\u001b[0m\n\u001b[0m\u001b[1;32m      4\u001b[0m         \u001b[0;32mif\u001b[0m \u001b[0mx\u001b[0m \u001b[0;34m==\u001b[0m \u001b[0msep\u001b[0m\u001b[0;34m:\u001b[0m\u001b[0;34m\u001b[0m\u001b[0;34m\u001b[0m\u001b[0m\n\u001b[1;32m      5\u001b[0m             \u001b[0mout\u001b[0m\u001b[0;34m.\u001b[0m\u001b[0mappend\u001b[0m\u001b[0;34m(\u001b[0m\u001b[0;34m[\u001b[0m\u001b[0;34m]\u001b[0m\u001b[0;34m)\u001b[0m\u001b[0;34m\u001b[0m\u001b[0;34m\u001b[0m\u001b[0m\n",
      "\u001b[0;31mTypeError\u001b[0m: 'BingoGame' object is not iterable"
     ]
    }
   ],
   "source": [
    "class Board:\n",
    "    def __init__(self, rows):\n",
    "        self.board = self.__read_board(rows)\n",
    "        self.marks = np.ones(shape=self.board.shape, dtype=int)\n",
    "        \n",
    "    def __read_board(self, rows):\n",
    "        out = []\n",
    "        for row in rows:\n",
    "            out.append([int(x) for x in row.split()])\n",
    "        return np.array(out)\n",
    "\n",
    "    def mark(self, n):\n",
    "        self.marks[np.where(self.board == n)] = 0\n",
    "    \n",
    "    def check_bingo(self):\n",
    "        lines = [sum(self.marks[j,:]) for j in range(5)] + [sum(self.marks[:,i]) for i in range(5)]\n",
    "        if 0 in lines:\n",
    "            return True\n",
    "        else:\n",
    "            return False\n",
    "    \n",
    "    def unmarked(self):\n",
    "        return self.marks * self.board\n",
    "        \n",
    "m1 = Board(splitlist(test, \"\")[1])\n",
    "print(m1.board)\n",
    "print(m1.marks)\n",
    "print(m1.check_bingo())\n",
    "m1.mark(22)\n",
    "m1.mark(13)\n",
    "m1.mark(17)\n",
    "m1.mark(11)\n",
    "m1.mark(0)\n",
    "print(m1.marks)\n",
    "print(m1.check_bingo())\n",
    "print(m1.unmarked())"
   ]
  },
  {
   "cell_type": "code",
   "execution_count": 62,
   "metadata": {},
   "outputs": [
    {
     "name": "stdout",
     "output_type": "stream",
     "text": [
      "[7, 4, 9, 5, 11, 17, 23, 2, 0, 14, 21, 24, 10, 16, 13, 6, 15, 25, 12, 22, 18, 20, 8, 19, 3, 26, 1]\n",
      "[[22 13 17 11  0]\n",
      " [ 8  2 23  4 24]\n",
      " [21  9 14 16  7]\n",
      " [ 6 10  3 18  5]\n",
      " [ 1 12 20 15 19]]\n",
      "[[ 3 15  0  2 22]\n",
      " [ 9 18 13 17  5]\n",
      " [19  8  7 25 23]\n",
      " [20 11 10 24  4]\n",
      " [14 21 16 12  6]]\n",
      "[[14 21 17 24  4]\n",
      " [10 16 15  9 19]\n",
      " [18  8 23 26 20]\n",
      " [22 11 13  6  5]\n",
      " [ 2  0 12  3  7]]\n",
      "[[ 3 15  0  0 22]\n",
      " [ 0 18  0  0  0]\n",
      " [19  8  0 25  0]\n",
      " [20  0  0  0  0]\n",
      " [ 0  0  0 12  6]]\n"
     ]
    },
    {
     "data": {
      "text/plain": [
       "1924"
      ]
     },
     "execution_count": 62,
     "metadata": {},
     "output_type": "execute_result"
    }
   ],
   "source": [
    "class BingoGame:\n",
    "    def __init__(self, filename):\n",
    "        data = splitlist(readlines(filename), \"\")\n",
    "        self.numbers = [int(x) for x in data[0][0].split(\",\")]\n",
    "        self.boards = []\n",
    "        for b in data[1:]:\n",
    "            self.boards.append(Board(b))\n",
    "            \n",
    "    def play(self):\n",
    "        for n in self.numbers:\n",
    "            for b in self.boards:\n",
    "                b.mark(n)\n",
    "                #print(b.marks)\n",
    "                if b.check_bingo():\n",
    "                    print(b.unmarked())\n",
    "                    return n * np.sum(b.unmarked())\n",
    "    \n",
    "    def play2(self):\n",
    "        left = [x for x in range(len(self.boards))]\n",
    "        for n in self.numbers:\n",
    "            for i, b in enumerate(self.boards):\n",
    "                if i in left:\n",
    "                    b.mark(n)\n",
    "                    if b.check_bingo():\n",
    "                        if len(left) == 1:\n",
    "                            last = b.unmarked()\n",
    "                            print(last)\n",
    "                            return n * np.sum(last)\n",
    "                        else:\n",
    "                            left.remove(i)\n",
    "\n",
    "test = BingoGame(\"test.txt\")\n",
    "print(test.numbers)\n",
    "for b in test.boards:\n",
    "    print(b.board) \n",
    "test.play2()"
   ]
  },
  {
   "cell_type": "code",
   "execution_count": 53,
   "metadata": {},
   "outputs": [
    {
     "name": "stdout",
     "output_type": "stream",
     "text": [
      "[[ 0  0  0  0  0]\n",
      " [27 29 22  0 76]\n",
      " [58 54 80  0  0]\n",
      " [ 0 24 83  0 25]\n",
      " [21 31 48 39  4]]\n"
     ]
    },
    {
     "data": {
      "text/plain": [
       "58374"
      ]
     },
     "execution_count": 53,
     "metadata": {},
     "output_type": "execute_result"
    }
   ],
   "source": [
    "inp = BingoGame(\"input.txt\")\n",
    "inp.play()"
   ]
  },
  {
   "cell_type": "code",
   "execution_count": 63,
   "metadata": {},
   "outputs": [
    {
     "name": "stdout",
     "output_type": "stream",
     "text": [
      "[[ 0 99  0  0  0]\n",
      " [ 0 30 10  0  0]\n",
      " [98  0  0  0 25]\n",
      " [76  0 29  0  0]\n",
      " [ 0  0  0  0  0]]\n"
     ]
    },
    {
     "data": {
      "text/plain": [
       "11377"
      ]
     },
     "execution_count": 63,
     "metadata": {},
     "output_type": "execute_result"
    }
   ],
   "source": [
    "inp = BingoGame(\"input.txt\")\n",
    "inp.play2()"
   ]
  },
  {
   "cell_type": "code",
   "execution_count": null,
   "metadata": {},
   "outputs": [],
   "source": []
  }
 ],
 "metadata": {
  "kernelspec": {
   "display_name": "Python 3",
   "language": "python",
   "name": "python3"
  },
  "language_info": {
   "codemirror_mode": {
    "name": "ipython",
    "version": 3
   },
   "file_extension": ".py",
   "mimetype": "text/x-python",
   "name": "python",
   "nbconvert_exporter": "python",
   "pygments_lexer": "ipython3",
   "version": "3.8.8"
  }
 },
 "nbformat": 4,
 "nbformat_minor": 2
}
