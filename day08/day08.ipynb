{
 "cells": [
  {
   "cell_type": "markdown",
   "id": "tracked-bikini",
   "metadata": {},
   "source": [
    "Using capital letters to identify the actual segments:\n",
    "\n",
    "```\n",
    " AAA\n",
    "B   C\n",
    "B   C\n",
    " DDD\n",
    "E   F\n",
    "E   F\n",
    " GGG\n",
    "```\n",
    "\n",
    "Mapping of segments to digits:\n",
    "\n",
    "```\n",
    "  A B C D E F G\n",
    "0 # # #   # # # 6\n",
    "1     #     #   2*\n",
    "2 #   # # #   # 5\n",
    "3 #   # #   # # 5\n",
    "4   # # #   #   4* \n",
    "5 # #   #   # # 5\n",
    "6 # #   # # # # 6\n",
    "7 #   #     #   3*\n",
    "8 # # # # # # # 8*\n",
    "9 # # # #   # # 6\n",
    "  8 6 8 7 4 9 7\n",
    "    *     * *\n",
    "```"
   ]
  },
  {
   "cell_type": "code",
   "execution_count": 68,
   "id": "surprised-boring",
   "metadata": {},
   "outputs": [
    {
     "name": "stdout",
     "output_type": "stream",
     "text": [
      "Display(['abcdefg', 'bcdef', 'acdfg', 'abcdf', 'abd', 'abcdef', 'bcdefg', 'abef', 'abcdeg', 'ab'] | ['bcdef', 'abcdf', 'bcdef', 'abcdf'])\n",
      "{'abcdeg': 0, 'ab': 1, 'acdfg': 2, 'abcdf': 3, 'abef': 4, 'bcdef': 5, 'bcdefg': 6, 'abd': 7, 'abcdefg': 8, 'abcdef': 9}\n"
     ]
    },
    {
     "data": {
      "text/plain": [
       "5353"
      ]
     },
     "execution_count": 68,
     "metadata": {},
     "output_type": "execute_result"
    }
   ],
   "source": [
    "def set2str(s):\n",
    "    return (\"\".join(sorted(s)))\n",
    "\n",
    "class Display:\n",
    "    def __init__(self, line):\n",
    "        self.line = line\n",
    "        signals, outputs = line.split(\" | \")\n",
    "        self.signals = [\"\".join(sorted(s)) for s in signals.split(\" \")]\n",
    "        self.outputs = [\"\".join(sorted(o)) for o in outputs.split(\" \")]\n",
    "        self.segs = None\n",
    "        self.digs = None\n",
    "        self.sig2dig = None\n",
    "        self.solve()\n",
    "        \n",
    "    def __repr__(self):\n",
    "        return \"Display({0.signals} | {0.outputs})\".format(self)\n",
    "    \n",
    "    def solve(self):\n",
    "        segs = {}\n",
    "        for seg in \"ABCDEFG\":\n",
    "            segs[seg] = set()\n",
    "\n",
    "        digs = {}\n",
    "        for dig in range(0, 10):\n",
    "            digs[dig] = None\n",
    "\n",
    "        for s in self.signals:\n",
    "            if len(s) == 2:\n",
    "                digs[1] = set(s)\n",
    "            elif len(s) == 4:\n",
    "                digs[4] = set(s)\n",
    "            elif len(s) == 3:\n",
    "                digs[7] = set(s)\n",
    "            elif len(s) == 7:\n",
    "                digs[8] = set(s)\n",
    "        #print(\"digs = {}\".format(digs))\n",
    "        segs[\"A\"] = digs[7] - digs[1]\n",
    "        for c in \"abcdefg\":\n",
    "            count = 0\n",
    "            for s in self.signals:\n",
    "                if c in s:\n",
    "                    count += 1\n",
    "            if count == 8:\n",
    "                #segs[\"A\"].add(c)\n",
    "                segs[\"C\"].add(c)\n",
    "            elif count == 6:\n",
    "                segs[\"B\"].add(c)\n",
    "            elif count == 7:\n",
    "                segs[\"D\"].add(c)\n",
    "                segs[\"G\"].add(c)\n",
    "            elif count == 4:\n",
    "                segs[\"E\"].add(c)\n",
    "            elif count == 9:\n",
    "                segs[\"F\"].add(c)\n",
    "        #print(\"segs = {}\".format(segs))\n",
    "        \n",
    "        segs[\"C\"] -= segs[\"A\"]\n",
    "        segs[\"G\"] -= (digs[4] - digs[1])\n",
    "        segs[\"D\"] -= segs[\"G\"]\n",
    "\n",
    "        #for s in test[0].signals:\n",
    "        digs[0] = digs[8] - segs[\"D\"]\n",
    "        digs[2] = digs[8] - segs[\"B\"] - segs[\"F\"]\n",
    "        digs[3] = digs[8] - segs[\"B\"] - segs[\"E\"]\n",
    "        digs[5] = digs[8] - segs[\"C\"] - segs[\"E\"]\n",
    "        digs[6] = digs[8] - segs[\"C\"]\n",
    "        digs[9] = digs[8] - segs[\"E\"]\n",
    "        self.digs = digs\n",
    "        self.segs = segs\n",
    "        self.sig2dig = dict()\n",
    "        for i, sig in self.digs.items():\n",
    "            self.sig2dig[set2str(sig)] = i\n",
    "        \n",
    "    def value(self):\n",
    "        return int(\"\".join([str(self.sig2dig[o]) for o in self.outputs]))\n",
    "    \n",
    "test1 = Display(\"acedgfb cdfbe gcdfa fbcad dab cefabd cdfgeb eafb cagedb ab | cdfeb fcadb cdfeb cdbaf\")\n",
    "print(test1)\n",
    "print(test1.sig2dig)\n",
    "#test1.solve()\n",
    "#print(test1.segs)\n",
    "test1.value()"
   ]
  },
  {
   "cell_type": "code",
   "execution_count": 70,
   "id": "duplicate-arthritis",
   "metadata": {},
   "outputs": [],
   "source": [
    "def read_displays(filename):\n",
    "    out = []\n",
    "    with open(filename, \"r\") as fh:\n",
    "        for l in fh:\n",
    "            out.append(Display(l.strip()))\n",
    "    return out\n",
    "\n",
    "test = read_displays(\"test.txt\")"
   ]
  },
  {
   "cell_type": "code",
   "execution_count": 9,
   "id": "occupational-labor",
   "metadata": {},
   "outputs": [
    {
     "data": {
      "text/plain": [
       "26"
      ]
     },
     "execution_count": 9,
     "metadata": {},
     "output_type": "execute_result"
    }
   ],
   "source": [
    "def count1478(ds):\n",
    "    count = 0\n",
    "    for d in ds:\n",
    "        for o in d.outputs:\n",
    "            l = len(o)\n",
    "            if l == 2 or l == 4 or l == 3 or l == 7:\n",
    "                count += 1\n",
    "    return count\n",
    "\n",
    "count1478(test)"
   ]
  },
  {
   "cell_type": "code",
   "execution_count": 73,
   "id": "international-platform",
   "metadata": {},
   "outputs": [],
   "source": [
    "inp = read_displays(\"input.txt\")"
   ]
  },
  {
   "cell_type": "code",
   "execution_count": 74,
   "id": "according-archive",
   "metadata": {},
   "outputs": [
    {
     "data": {
      "text/plain": [
       "344"
      ]
     },
     "execution_count": 74,
     "metadata": {},
     "output_type": "execute_result"
    }
   ],
   "source": [
    "count1478(inp)"
   ]
  },
  {
   "cell_type": "code",
   "execution_count": 72,
   "id": "professional-pride",
   "metadata": {},
   "outputs": [
    {
     "name": "stdout",
     "output_type": "stream",
     "text": [
      "8394 Display(['be', 'abcdefg', 'bcdefg', 'acdefg', 'bceg', 'cdefg', 'abdefg', 'bcdef', 'abcdf', 'bde'] | ['abcdefg', 'bcdef', 'bcdefg', 'bceg'])\n",
      "9781 Display(['abdefg', 'bcdeg', 'bcg', 'cg', 'abcdefg', 'bdefg', 'abcdfg', 'abcde', 'bcdefg', 'cefg'] | ['bcdefg', 'bcg', 'abcdefg', 'cg'])\n",
      "1197 Display(['abdefg', 'cg', 'abcde', 'abdfg', 'abcdfg', 'bcdefg', 'abcdg', 'acfg', 'bcg', 'abcdefg'] | ['cg', 'cg', 'abcdfg', 'bcg'])\n",
      "9361 Display(['bcdefg', 'bcd', 'abcdef', 'abdeg', 'abcf', 'bc', 'acdef', 'abcde', 'acdefg', 'abcdefg'] | ['abcdef', 'abcde', 'acdefg', 'bc'])\n",
      "4873 Display(['abcdefg', 'bfg', 'fg', 'abefg', 'abdef', 'cefg', 'abceg', 'abcefg', 'abcdeg', 'abcdfg'] | ['cefg', 'abcdefg', 'bfg', 'abefg'])\n",
      "8418 Display(['abefg', 'ac', 'abcefg', 'abcdefg', 'acdefg', 'bcdfg', 'abce', 'abdefg', 'abcfg', 'acf'] | ['abcdefg', 'abce', 'ac', 'abcdefg'])\n",
      "4548 Display(['bcdfg', 'dfg', 'abcdefg', 'cefg', 'abdefg', 'abcdef', 'bcdef', 'abcdg', 'bcdefg', 'fg'] | ['cefg', 'bcdef', 'cefg', 'abcdefg'])\n",
      "1625 Display(['bcdefg', 'abcefg', 'bcefg', 'acdefg', 'abcdg', 'de', 'bdef', 'cde', 'abcdefg', 'bcdeg'] | ['de', 'abcefg', 'abcdg', 'bcefg'])\n",
      "8717 Display(['abdefg', 'bcdefg', 'cdeg', 'abcef', 'bcg', 'abcdefg', 'cg', 'abcdfg', 'bdefg', 'bcefg'] | ['abcdefg', 'bcg', 'cg', 'bcg'])\n",
      "4315 Display(['abcfg', 'cfg', 'abcdefg', 'abceg', 'fg', 'abcdeg', 'aefg', 'abcefg', 'abcdf', 'bcdefg'] | ['aefg', 'abcfg', 'fg', 'abceg'])\n"
     ]
    },
    {
     "data": {
      "text/plain": [
       "61229"
      ]
     },
     "execution_count": 72,
     "metadata": {},
     "output_type": "execute_result"
    }
   ],
   "source": [
    "for d in test:\n",
    "    print(\"{} {}\".format(d.value(), d))\n",
    "sum(d.value() for d in test)"
   ]
  },
  {
   "cell_type": "code",
   "execution_count": 75,
   "id": "blocked-coordination",
   "metadata": {},
   "outputs": [
    {
     "data": {
      "text/plain": [
       "1048410"
      ]
     },
     "execution_count": 75,
     "metadata": {},
     "output_type": "execute_result"
    }
   ],
   "source": [
    "sum(d.value() for d in inp)"
   ]
  },
  {
   "cell_type": "code",
   "execution_count": null,
   "id": "developed-romance",
   "metadata": {},
   "outputs": [],
   "source": []
  }
 ],
 "metadata": {
  "kernelspec": {
   "display_name": "Python 3",
   "language": "python",
   "name": "python3"
  },
  "language_info": {
   "codemirror_mode": {
    "name": "ipython",
    "version": 3
   },
   "file_extension": ".py",
   "mimetype": "text/x-python",
   "name": "python",
   "nbconvert_exporter": "python",
   "pygments_lexer": "ipython3",
   "version": "3.8.8"
  }
 },
 "nbformat": 4,
 "nbformat_minor": 5
}
