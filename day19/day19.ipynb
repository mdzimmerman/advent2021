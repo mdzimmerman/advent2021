{
 "cells": [
  {
   "cell_type": "code",
   "execution_count": 25,
   "metadata": {},
   "outputs": [],
   "source": [
    "from collections import deque\n",
    "from mpl_toolkits.mplot3d import Axes3D\n",
    "import matplotlib.pyplot as plt\n",
    "import numpy as np\n",
    "import scipy.spatial.distance\n",
    "import re"
   ]
  },
  {
   "cell_type": "code",
   "execution_count": 2,
   "metadata": {},
   "outputs": [
    {
     "data": {
      "text/plain": [
       "array([[ 404, -588, -901],\n",
       "       [ 528, -643,  409],\n",
       "       [-838,  591,  734],\n",
       "       [ 390, -675, -793],\n",
       "       [-537, -823, -458],\n",
       "       [-485, -357,  347],\n",
       "       [-345, -311,  381],\n",
       "       [-661, -816, -575],\n",
       "       [-876,  649,  763],\n",
       "       [-618, -824, -621],\n",
       "       [ 553,  345, -567],\n",
       "       [ 474,  580,  667],\n",
       "       [-447, -329,  318],\n",
       "       [-584,  868, -557],\n",
       "       [ 544, -627, -890],\n",
       "       [ 564,  392, -477],\n",
       "       [ 455,  729,  728],\n",
       "       [-892,  524,  684],\n",
       "       [-689,  845, -530],\n",
       "       [ 423, -701,  434],\n",
       "       [   7,  -33,  -71],\n",
       "       [ 630,  319, -379],\n",
       "       [ 443,  580,  662],\n",
       "       [-789,  900, -551],\n",
       "       [ 459, -707,  401]])"
      ]
     },
     "execution_count": 2,
     "metadata": {},
     "output_type": "execute_result"
    }
   ],
   "source": [
    "def readinput(filename):\n",
    "    out = []\n",
    "    with open(filename, \"r\") as fh:\n",
    "        data = None\n",
    "        for line in fh:\n",
    "            line = line.strip()\n",
    "            if re.match(\"^---\", line):\n",
    "                if data is not None:\n",
    "                    out.append(np.array(data, dtype=int))\n",
    "                data = []\n",
    "            elif line != \"\":\n",
    "                x, y, z = [int(x) for x in line.split(\",\")]\n",
    "                data.append([x, y, z])\n",
    "    out.append(np.array(data, dtype=int))\n",
    "    return out\n",
    "\n",
    "test = readinput(\"test.txt\")\n",
    "test[0]"
   ]
  },
  {
   "cell_type": "code",
   "execution_count": 3,
   "metadata": {},
   "outputs": [
    {
     "data": {
      "text/plain": [
       "[array([[1, 0, 0],\n",
       "        [0, 1, 0],\n",
       "        [0, 0, 1]]),\n",
       " array([[ 1,  0,  0],\n",
       "        [ 0,  0, -1],\n",
       "        [ 0,  1,  0]]),\n",
       " array([[ 1,  0,  0],\n",
       "        [ 0, -1,  0],\n",
       "        [ 0,  0, -1]]),\n",
       " array([[ 1,  0,  0],\n",
       "        [ 0,  0,  1],\n",
       "        [ 0, -1,  0]]),\n",
       " array([[ 0, -1,  0],\n",
       "        [ 1,  0,  0],\n",
       "        [ 0,  0,  1]]),\n",
       " array([[0, 0, 1],\n",
       "        [1, 0, 0],\n",
       "        [0, 1, 0]]),\n",
       " array([[ 0,  1,  0],\n",
       "        [ 1,  0,  0],\n",
       "        [ 0,  0, -1]]),\n",
       " array([[ 0,  0, -1],\n",
       "        [ 1,  0,  0],\n",
       "        [ 0, -1,  0]]),\n",
       " array([[-1,  0,  0],\n",
       "        [ 0, -1,  0],\n",
       "        [ 0,  0,  1]]),\n",
       " array([[-1,  0,  0],\n",
       "        [ 0,  0, -1],\n",
       "        [ 0, -1,  0]]),\n",
       " array([[-1,  0,  0],\n",
       "        [ 0,  1,  0],\n",
       "        [ 0,  0, -1]]),\n",
       " array([[-1,  0,  0],\n",
       "        [ 0,  0,  1],\n",
       "        [ 0,  1,  0]]),\n",
       " array([[ 0,  1,  0],\n",
       "        [-1,  0,  0],\n",
       "        [ 0,  0,  1]]),\n",
       " array([[ 0,  0,  1],\n",
       "        [-1,  0,  0],\n",
       "        [ 0, -1,  0]]),\n",
       " array([[ 0, -1,  0],\n",
       "        [-1,  0,  0],\n",
       "        [ 0,  0, -1]]),\n",
       " array([[ 0,  0, -1],\n",
       "        [-1,  0,  0],\n",
       "        [ 0,  1,  0]]),\n",
       " array([[ 0,  0, -1],\n",
       "        [ 0,  1,  0],\n",
       "        [ 1,  0,  0]]),\n",
       " array([[0, 1, 0],\n",
       "        [0, 0, 1],\n",
       "        [1, 0, 0]]),\n",
       " array([[ 0,  0,  1],\n",
       "        [ 0, -1,  0],\n",
       "        [ 1,  0,  0]]),\n",
       " array([[ 0, -1,  0],\n",
       "        [ 0,  0, -1],\n",
       "        [ 1,  0,  0]]),\n",
       " array([[ 0,  0, -1],\n",
       "        [ 0, -1,  0],\n",
       "        [-1,  0,  0]]),\n",
       " array([[ 0, -1,  0],\n",
       "        [ 0,  0,  1],\n",
       "        [-1,  0,  0]]),\n",
       " array([[ 0,  0,  1],\n",
       "        [ 0,  1,  0],\n",
       "        [-1,  0,  0]]),\n",
       " array([[ 0,  1,  0],\n",
       "        [ 0,  0, -1],\n",
       "        [-1,  0,  0]])]"
      ]
     },
     "execution_count": 3,
     "metadata": {},
     "output_type": "execute_result"
    }
   ],
   "source": [
    "def readrots(filename):\n",
    "    rots = []\n",
    "    with open(filename, \"r\") as fh:\n",
    "        data = []\n",
    "        for line in fh:\n",
    "            line = line.strip()\n",
    "            if re.match(\"^#\", line):\n",
    "                continue\n",
    "            elif line == \"\":\n",
    "                rot = np.array(data, dtype=int)\n",
    "                rots.append(rot)\n",
    "                data = []\n",
    "            else:\n",
    "                data.append(line.split(\" \"))\n",
    "        rot = np.array(data, dtype=int)\n",
    "        rots.append(rot)\n",
    "    return rots\n",
    "\n",
    "rots = readrots(\"rot.txt\")\n",
    "rots"
   ]
  },
  {
   "cell_type": "code",
   "execution_count": 4,
   "metadata": {},
   "outputs": [
    {
     "data": {
      "text/plain": [
       "array([[-1, -1,  1],\n",
       "       [-2, -2,  2],\n",
       "       [-3, -3,  3],\n",
       "       [-2, -3,  1],\n",
       "       [ 5,  6, -4],\n",
       "       [ 8,  0,  7]])"
      ]
     },
     "execution_count": 4,
     "metadata": {},
     "output_type": "execute_result"
    }
   ],
   "source": [
    "def readdata(s):\n",
    "    data = []\n",
    "    for l in s.split(\"\\n\"):\n",
    "        #print(f\"<{l}>\")\n",
    "        if len(l):\n",
    "            data.append([int(x) for x in l.split(\",\")])\n",
    "    return np.array(data, dtype=int)\n",
    "\n",
    "test1 = readdata(\"\"\"\n",
    "-1,-1,1\n",
    "-2,-2,2\n",
    "-3,-3,3\n",
    "-2,-3,1\n",
    "5,6,-4\n",
    "8,0,7\n",
    "\"\"\")\n",
    "test1"
   ]
  },
  {
   "cell_type": "code",
   "execution_count": 5,
   "metadata": {},
   "outputs": [
    {
     "name": "stdout",
     "output_type": "stream",
     "text": [
      "[[-1 -1  1]\n",
      " [-2 -2  2]\n",
      " [-3 -3  3]\n",
      " [-2 -3  1]\n",
      " [ 5  6 -4]\n",
      " [ 8  0  7]]\n",
      "\n",
      "[[-1 -1 -1]\n",
      " [-2 -2 -2]\n",
      " [-3 -3 -3]\n",
      " [-2 -1 -3]\n",
      " [ 5  4  6]\n",
      " [ 8 -7  0]]\n",
      "\n",
      "[[-1  1 -1]\n",
      " [-2  2 -2]\n",
      " [-3  3 -3]\n",
      " [-2  3 -1]\n",
      " [ 5 -6  4]\n",
      " [ 8  0 -7]]\n",
      "\n",
      "[[-1  1  1]\n",
      " [-2  2  2]\n",
      " [-3  3  3]\n",
      " [-2  1  3]\n",
      " [ 5 -4 -6]\n",
      " [ 8  7  0]]\n",
      "\n",
      "[[ 1 -1  1]\n",
      " [ 2 -2  2]\n",
      " [ 3 -3  3]\n",
      " [ 3 -2  1]\n",
      " [-6  5 -4]\n",
      " [ 0  8  7]]\n",
      "\n",
      "[[ 1 -1 -1]\n",
      " [ 2 -2 -2]\n",
      " [ 3 -3 -3]\n",
      " [ 1 -2 -3]\n",
      " [-4  5  6]\n",
      " [ 7  8  0]]\n",
      "\n",
      "[[-1 -1 -1]\n",
      " [-2 -2 -2]\n",
      " [-3 -3 -3]\n",
      " [-3 -2 -1]\n",
      " [ 6  5  4]\n",
      " [ 0  8 -7]]\n",
      "\n",
      "[[-1 -1  1]\n",
      " [-2 -2  2]\n",
      " [-3 -3  3]\n",
      " [-1 -2  3]\n",
      " [ 4  5 -6]\n",
      " [-7  8  0]]\n",
      "\n",
      "[[ 1  1  1]\n",
      " [ 2  2  2]\n",
      " [ 3  3  3]\n",
      " [ 2  3  1]\n",
      " [-5 -6 -4]\n",
      " [-8  0  7]]\n",
      "\n",
      "[[ 1 -1  1]\n",
      " [ 2 -2  2]\n",
      " [ 3 -3  3]\n",
      " [ 2 -1  3]\n",
      " [-5  4 -6]\n",
      " [-8 -7  0]]\n",
      "\n",
      "[[ 1 -1 -1]\n",
      " [ 2 -2 -2]\n",
      " [ 3 -3 -3]\n",
      " [ 2 -3 -1]\n",
      " [-5  6  4]\n",
      " [-8  0 -7]]\n",
      "\n",
      "[[ 1  1 -1]\n",
      " [ 2  2 -2]\n",
      " [ 3  3 -3]\n",
      " [ 2  1 -3]\n",
      " [-5 -4  6]\n",
      " [-8  7  0]]\n",
      "\n",
      "[[-1  1  1]\n",
      " [-2  2  2]\n",
      " [-3  3  3]\n",
      " [-3  2  1]\n",
      " [ 6 -5 -4]\n",
      " [ 0 -8  7]]\n",
      "\n",
      "[[ 1  1  1]\n",
      " [ 2  2  2]\n",
      " [ 3  3  3]\n",
      " [ 1  2  3]\n",
      " [-4 -5 -6]\n",
      " [ 7 -8  0]]\n",
      "\n",
      "[[ 1  1 -1]\n",
      " [ 2  2 -2]\n",
      " [ 3  3 -3]\n",
      " [ 3  2 -1]\n",
      " [-6 -5  4]\n",
      " [ 0 -8 -7]]\n",
      "\n",
      "[[-1  1 -1]\n",
      " [-2  2 -2]\n",
      " [-3  3 -3]\n",
      " [-1  2 -3]\n",
      " [ 4 -5  6]\n",
      " [-7 -8  0]]\n",
      "\n",
      "[[-1 -1 -1]\n",
      " [-2 -2 -2]\n",
      " [-3 -3 -3]\n",
      " [-1 -3 -2]\n",
      " [ 4  6  5]\n",
      " [-7  0  8]]\n",
      "\n",
      "[[-1  1 -1]\n",
      " [-2  2 -2]\n",
      " [-3  3 -3]\n",
      " [-3  1 -2]\n",
      " [ 6 -4  5]\n",
      " [ 0  7  8]]\n",
      "\n",
      "[[ 1  1 -1]\n",
      " [ 2  2 -2]\n",
      " [ 3  3 -3]\n",
      " [ 1  3 -2]\n",
      " [-4 -6  5]\n",
      " [ 7  0  8]]\n",
      "\n",
      "[[ 1 -1 -1]\n",
      " [ 2 -2 -2]\n",
      " [ 3 -3 -3]\n",
      " [ 3 -1 -2]\n",
      " [-6  4  5]\n",
      " [ 0 -7  8]]\n",
      "\n",
      "[[-1  1  1]\n",
      " [-2  2  2]\n",
      " [-3  3  3]\n",
      " [-1  3  2]\n",
      " [ 4 -6 -5]\n",
      " [-7  0 -8]]\n",
      "\n",
      "[[ 1  1  1]\n",
      " [ 2  2  2]\n",
      " [ 3  3  3]\n",
      " [ 3  1  2]\n",
      " [-6 -4 -5]\n",
      " [ 0  7 -8]]\n",
      "\n",
      "[[ 1 -1  1]\n",
      " [ 2 -2  2]\n",
      " [ 3 -3  3]\n",
      " [ 1 -3  2]\n",
      " [-4  6 -5]\n",
      " [ 7  0 -8]]\n",
      "\n",
      "[[-1 -1  1]\n",
      " [-2 -2  2]\n",
      " [-3 -3  3]\n",
      " [-3 -1  2]\n",
      " [ 6  4 -5]\n",
      " [ 0 -7 -8]]\n",
      "\n"
     ]
    }
   ],
   "source": [
    "for rot in rots:\n",
    "    print(test1 @ rot.T)\n",
    "    print()"
   ]
  },
  {
   "cell_type": "code",
   "execution_count": 6,
   "metadata": {},
   "outputs": [
    {
     "data": {
      "text/plain": [
       "array([[-618, -824, -621],\n",
       "       [-537, -823, -458],\n",
       "       [-447, -329,  318],\n",
       "       [ 404, -588, -901],\n",
       "       [ 544, -627, -890],\n",
       "       [ 528, -643,  409],\n",
       "       [-661, -816, -575],\n",
       "       [ 390, -675, -793],\n",
       "       [ 423, -701,  434],\n",
       "       [-345, -311,  381],\n",
       "       [ 459, -707,  401],\n",
       "       [-485, -357,  347]])"
      ]
     },
     "execution_count": 6,
     "metadata": {},
     "output_type": "execute_result"
    }
   ],
   "source": [
    "s0common = readdata(\"\"\"\n",
    "-618,-824,-621\n",
    "-537,-823,-458\n",
    "-447,-329,318\n",
    "404,-588,-901\n",
    "544,-627,-890\n",
    "528,-643,409\n",
    "-661,-816,-575\n",
    "390,-675,-793\n",
    "423,-701,434\n",
    "-345,-311,381\n",
    "459,-707,401\n",
    "-485,-357,347\n",
    "\"\"\")\n",
    "s0common"
   ]
  },
  {
   "cell_type": "code",
   "execution_count": 7,
   "metadata": {},
   "outputs": [
    {
     "data": {
      "text/plain": [
       "array([[ 686,  422,  578],\n",
       "       [ 605,  423,  415],\n",
       "       [ 515,  917, -361],\n",
       "       [-336,  658,  858],\n",
       "       [-476,  619,  847],\n",
       "       [-460,  603, -452],\n",
       "       [ 729,  430,  532],\n",
       "       [-322,  571,  750],\n",
       "       [-355,  545, -477],\n",
       "       [ 413,  935, -424],\n",
       "       [-391,  539, -444],\n",
       "       [ 553,  889, -390]])"
      ]
     },
     "execution_count": 7,
     "metadata": {},
     "output_type": "execute_result"
    }
   ],
   "source": [
    "s1common = readdata(\"\"\"\n",
    "686,422,578\n",
    "605,423,415\n",
    "515,917,-361\n",
    "-336,658,858\n",
    "-476,619,847\n",
    "-460,603,-452\n",
    "729,430,532\n",
    "-322,571,750\n",
    "-355,545,-477\n",
    "413,935,-424\n",
    "-391,539,-444\n",
    "553,889,-390\n",
    "\"\"\")\n",
    "s1common"
   ]
  },
  {
   "cell_type": "code",
   "execution_count": 8,
   "metadata": {},
   "outputs": [
    {
     "data": {
      "text/plain": [
       "(array([   68, -1246,   -43]), 10)"
      ]
     },
     "execution_count": 8,
     "metadata": {},
     "output_type": "execute_result"
    }
   ],
   "source": [
    "def find_rot_and_offset(si_common, sj_common, debug=False):\n",
    "    for ri, rot in enumerate(rots):\n",
    "        a = si_common - (sj_common @ rot.T)\n",
    "        amax = np.max(a, axis=0)\n",
    "        amin = np.min(a, axis=0)\n",
    "        if debug:\n",
    "            print(a)\n",
    "            print(np.max(a, axis=0))\n",
    "            print(np.min(a, axis=0))\n",
    "            print()\n",
    "        if np.array_equal(amin, amax):\n",
    "            return amin, ri\n",
    "    return None, None\n",
    "        \n",
    "find_rot_and_offset(s0common, s1common)"
   ]
  },
  {
   "cell_type": "code",
   "execution_count": 9,
   "metadata": {},
   "outputs": [
    {
     "data": {
      "text/plain": [
       "{0: {1: {0: 3,\n",
       "   1: 8,\n",
       "   3: 12,\n",
       "   4: 1,\n",
       "   5: 24,\n",
       "   6: 18,\n",
       "   7: 10,\n",
       "   9: 0,\n",
       "   12: 2,\n",
       "   14: 5,\n",
       "   19: 15,\n",
       "   24: 19}},\n",
       " 1: {0: {0: 9,\n",
       "   1: 4,\n",
       "   2: 12,\n",
       "   3: 0,\n",
       "   5: 14,\n",
       "   8: 1,\n",
       "   10: 7,\n",
       "   12: 3,\n",
       "   15: 19,\n",
       "   18: 6,\n",
       "   19: 24,\n",
       "   24: 5},\n",
       "  3: {6: 2,\n",
       "   7: 13,\n",
       "   9: 20,\n",
       "   11: 3,\n",
       "   13: 6,\n",
       "   14: 0,\n",
       "   16: 11,\n",
       "   17: 5,\n",
       "   20: 17,\n",
       "   21: 12,\n",
       "   22: 21,\n",
       "   23: 24},\n",
       "  4: {2: 4,\n",
       "   6: 11,\n",
       "   8: 24,\n",
       "   13: 1,\n",
       "   15: 18,\n",
       "   16: 15,\n",
       "   18: 17,\n",
       "   19: 5,\n",
       "   21: 13,\n",
       "   22: 12,\n",
       "   23: 16,\n",
       "   24: 3}},\n",
       " 2: {4: {0: 14,\n",
       "   1: 18,\n",
       "   7: 23,\n",
       "   8: 22,\n",
       "   11: 11,\n",
       "   12: 19,\n",
       "   13: 6,\n",
       "   16: 1,\n",
       "   19: 5,\n",
       "   20: 7,\n",
       "   23: 13,\n",
       "   25: 24}},\n",
       " 3: {1: {0: 14,\n",
       "   2: 6,\n",
       "   3: 11,\n",
       "   5: 17,\n",
       "   6: 13,\n",
       "   11: 16,\n",
       "   12: 21,\n",
       "   13: 7,\n",
       "   17: 20,\n",
       "   20: 9,\n",
       "   21: 22,\n",
       "   24: 23}},\n",
       " 4: {1: {1: 13,\n",
       "   3: 24,\n",
       "   4: 2,\n",
       "   5: 19,\n",
       "   11: 6,\n",
       "   12: 22,\n",
       "   13: 21,\n",
       "   15: 16,\n",
       "   16: 23,\n",
       "   17: 18,\n",
       "   18: 15,\n",
       "   24: 8},\n",
       "  2: {1: 16,\n",
       "   5: 19,\n",
       "   6: 13,\n",
       "   7: 20,\n",
       "   11: 11,\n",
       "   13: 23,\n",
       "   14: 0,\n",
       "   18: 1,\n",
       "   19: 12,\n",
       "   22: 8,\n",
       "   23: 7,\n",
       "   24: 25}}}"
      ]
     },
     "execution_count": 9,
     "metadata": {},
     "output_type": "execute_result"
    }
   ],
   "source": [
    "def build_distances(sensor):\n",
    "    dist = scipy.spatial.distance.cdist(sensor, sensor, 'cityblock').astype(int)\n",
    "    return [set(d[0]) for d in np.split(dist, len(dist))]\n",
    "\n",
    "def build_beacon_map(si, sj, dists):\n",
    "    out = {}\n",
    "    for bi, disti in enumerate(dists[si]):\n",
    "        for bj, distj in enumerate(dists[sj]):\n",
    "            distinter = disti & distj\n",
    "            if len(distinter) > 10:\n",
    "                out[bi] = bj\n",
    "    return out\n",
    "\n",
    "def build_map(sensors):\n",
    "    dists = [build_distances(s) for s in sensors]\n",
    "    \n",
    "    smap = dict()\n",
    "    \n",
    "    for si in range(len(sensors)):\n",
    "        smap[si] = dict()\n",
    "        for sj in range(len(sensors)):\n",
    "            if si == sj:\n",
    "                continue\n",
    "            m = build_beacon_map(si, sj, dists)\n",
    "            if m:\n",
    "                smap[si][sj] = m\n",
    "    return smap\n",
    "\n",
    "testmap = build_map(test)\n",
    "testmap"
   ]
  },
  {
   "cell_type": "code",
   "execution_count": 10,
   "metadata": {
    "scrolled": true
   },
   "outputs": [
    {
     "data": {
      "text/plain": [
       "(array([[ -618,  -824,  -621],\n",
       "        [ -537,  -823,  -458],\n",
       "        [ -447,  -329,   318],\n",
       "        [  404,  -588,  -901],\n",
       "        [  -27, -1108,   -65],\n",
       "        [  544,  -627,  -890],\n",
       "        [  408, -1815,   803],\n",
       "        [ -499, -1607,  -770],\n",
       "        [  528,  -643,   409],\n",
       "        [ -601, -1648,  -643],\n",
       "        [ -661,  -816,  -575],\n",
       "        [  568, -2007,  -577],\n",
       "        [  390,  -675,  -793],\n",
       "        [  534, -1912,   768],\n",
       "        [  497, -1838,  -617],\n",
       "        [  423,  -701,   434],\n",
       "        [ -635, -1737,   486],\n",
       "        [  396, -1931,  -563],\n",
       "        [ -345,  -311,   381],\n",
       "        [  459,  -707,   401],\n",
       "        [ -518, -1681,  -600],\n",
       "        [  432, -2009,   850],\n",
       "        [ -739, -1745,   668],\n",
       "        [ -687, -1600,   576],\n",
       "        [ -485,  -357,   347]]),\n",
       " array([   68, -1246,   -43]))"
      ]
     },
     "execution_count": 10,
     "metadata": {},
     "output_type": "execute_result"
    }
   ],
   "source": [
    "def transform_sensor(sensors, sensors_trans, smap, si, sj):\n",
    "    si_sub_idx = []\n",
    "    sj_sub_idx = []\n",
    "    for k, v in smap[si][sj].items():\n",
    "        si_sub_idx.append(k)\n",
    "        sj_sub_idx.append(v)\n",
    "    si_sub = sensors_trans[si][si_sub_idx,]\n",
    "    sj_sub = sensors[sj][sj_sub_idx,]\n",
    "    offset, ri = find_rot_and_offset(si_sub, sj_sub)\n",
    "    return sensors[sj] @ rots[ri].T + offset, offset\n",
    "\n",
    "s1c = transform_sensor(test, test, testmap, 0, 1)\n",
    "s1c"
   ]
  },
  {
   "cell_type": "code",
   "execution_count": 11,
   "metadata": {},
   "outputs": [
    {
     "name": "stdout",
     "output_type": "stream",
     "text": [
      "[[    0     0     0]\n",
      " [   68 -1246   -43]\n",
      " [ 1105 -1205  1229]\n",
      " [  -92 -2380   -20]\n",
      " [  -20 -1133  1061]]\n"
     ]
    },
    {
     "data": {
      "text/plain": [
       "79"
      ]
     },
     "execution_count": 11,
     "metadata": {},
     "output_type": "execute_result"
    }
   ],
   "source": [
    "def sort_rows(xs):\n",
    "    return xs[np.argsort(xs[:,0])]\n",
    "\n",
    "def combine_all(sensors, smap):\n",
    "    sensors_trans = [None] * len(sensors)\n",
    "    sensors_trans[0] = sensors[0]\n",
    "    sensors_pos = [None] * len(sensors)\n",
    "    sensors_pos[0] = np.array([0, 0, 0])\n",
    "    visited = set()\n",
    "    visited.add(0)\n",
    "    queue = deque()\n",
    "    queue.append(0)\n",
    "    \n",
    "    while queue:\n",
    "        si = queue.popleft()\n",
    "        for sj in smap[si]:\n",
    "            if sj not in visited:\n",
    "                sensors_trans[sj], sensors_pos[sj] = transform_sensor(sensors, sensors_trans, smap, si, sj)\n",
    "                queue.append(sj)\n",
    "                visited.add(sj)\n",
    "    return np.unique(sort_rows(np.concatenate(sensors_trans)), axis=0), np.concatenate(sensors_pos).reshape(len(sensors), 3)\n",
    "    \n",
    "test_beacons, test_sensors = combine_all(test, testmap)\n",
    "print(test_sensors)\n",
    "len(test_beacons)"
   ]
  },
  {
   "cell_type": "code",
   "execution_count": 12,
   "metadata": {},
   "outputs": [
    {
     "data": {
      "text/plain": [
       "3621"
      ]
     },
     "execution_count": 12,
     "metadata": {},
     "output_type": "execute_result"
    }
   ],
   "source": [
    "test_sensor_distances = scipy.spatial.distance.cdist(test_sensors, test_sensors, 'cityblock').astype(int)\n",
    "np.max(test_sensor_distances)"
   ]
  },
  {
   "cell_type": "code",
   "execution_count": 13,
   "metadata": {},
   "outputs": [],
   "source": [
    "inp = readinput(\"input.txt\")\n",
    "inpmap = build_map(inp)"
   ]
  },
  {
   "cell_type": "code",
   "execution_count": 14,
   "metadata": {},
   "outputs": [
    {
     "data": {
      "text/plain": [
       "308"
      ]
     },
     "execution_count": 14,
     "metadata": {},
     "output_type": "execute_result"
    }
   ],
   "source": [
    "inp_beacons, inp_sensors = combine_all(inp, inpmap)\n",
    "len(inp_beacons)"
   ]
  },
  {
   "cell_type": "code",
   "execution_count": 15,
   "metadata": {},
   "outputs": [
    {
     "data": {
      "text/plain": [
       "12124"
      ]
     },
     "execution_count": 15,
     "metadata": {},
     "output_type": "execute_result"
    }
   ],
   "source": [
    "inp_sensor_distances = scipy.spatial.distance.cdist(inp_sensors, inp_sensors, 'cityblock').astype(int)\n",
    "#print(inp_sensor_distances)\n",
    "np.max(inp_sensor_distances)"
   ]
  },
  {
   "cell_type": "code",
   "execution_count": 29,
   "metadata": {},
   "outputs": [
    {
     "data": {
      "image/png": "[encoded data removed]",
      "text/plain": [
       "<Figure size 864x864 with 1 Axes>"
      ]
     },
     "metadata": {
      "needs_background": "light"
     },
     "output_type": "display_data"
    }
   ],
   "source": [
    "#inp_beacons[:,0]\n",
    "fig = plt.figure(figsize=(12,12))\n",
    "ax = fig.add_subplot(111, projection='3d')\n",
    "ax.scatter(inp_beacons[:,0], inp_beacons[:,1], inp_beacons[:,2])\n",
    "ax.scatter(inp_sensors[:,0], inp_sensors[:,1], inp_sensors[:,2])\n",
    "plt.show()"
   ]
  },
  {
   "cell_type": "code",
   "execution_count": null,
   "metadata": {},
   "outputs": [],
   "source": []
  }
 ],
 "metadata": {
  "kernelspec": {
   "display_name": "Python 3 (ipykernel)",
   "language": "python",
   "name": "python3"
  },
  "language_info": {
   "codemirror_mode": {
    "name": "ipython",
    "version": 3
   },
   "file_extension": ".py",
   "mimetype": "text/x-python",
   "name": "python",
   "nbconvert_exporter": "python",
   "pygments_lexer": "ipython3",
   "version": "3.7.3"
  }
 },
 "nbformat": 4,
 "nbformat_minor": 5
}
